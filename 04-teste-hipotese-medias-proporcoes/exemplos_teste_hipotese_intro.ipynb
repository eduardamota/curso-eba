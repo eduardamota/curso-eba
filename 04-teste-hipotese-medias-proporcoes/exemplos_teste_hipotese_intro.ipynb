{
  "nbformat": 4,
  "nbformat_minor": 0,
  "metadata": {
    "colab": {
      "provenance": [],
      "authorship_tag": "ABX9TyMKBr3d17U2XmWKmbjj/HPd",
      "include_colab_link": true
    },
    "kernelspec": {
      "name": "python3",
      "display_name": "Python 3"
    },
    "language_info": {
      "name": "python"
    }
  },
  "cells": [
    {
      "cell_type": "markdown",
      "metadata": {
        "id": "view-in-github",
        "colab_type": "text"
      },
      "source": [
        "<a href=\"https://colab.research.google.com/github/eduardamota/curso-eba/blob/main/exemplos_teste_hipotese_intro.ipynb\" target=\"_parent\"><img src=\"https://colab.research.google.com/assets/colab-badge.svg\" alt=\"Open In Colab\"/></a>"
      ]
    },
    {
      "cell_type": "code",
      "source": [
        "pip install --upgrade scipy"
      ],
      "metadata": {
        "colab": {
          "base_uri": "https://localhost:8080/"
        },
        "id": "yGZNAiYse9vj",
        "outputId": "123665b7-20d8-4a22-f83b-e18e64659dbb"
      },
      "execution_count": 1,
      "outputs": [
        {
          "output_type": "stream",
          "name": "stdout",
          "text": [
            "Requirement already satisfied: scipy in /usr/local/lib/python3.10/dist-packages (1.11.4)\n",
            "Requirement already satisfied: numpy<1.28.0,>=1.21.6 in /usr/local/lib/python3.10/dist-packages (from scipy) (1.23.5)\n"
          ]
        }
      ]
    },
    {
      "cell_type": "code",
      "source": [
        "import numpy as np\n",
        "import scipy.stats as st"
      ],
      "metadata": {
        "id": "iKo0ViDte_sy"
      },
      "execution_count": 2,
      "outputs": []
    },
    {
      "cell_type": "code",
      "source": [
        "#Dados do exemplo\n",
        "n = 20\n",
        "x = 22.9\n",
        "s = 1.5"
      ],
      "metadata": {
        "id": "O3GX5EH0eW5x"
      },
      "execution_count": 3,
      "outputs": []
    },
    {
      "cell_type": "code",
      "source": [
        "#calculando o erro padrao\n",
        "e = s/(np.sqrt(n))"
      ],
      "metadata": {
        "id": "6X6qymdJeXBn"
      },
      "execution_count": 4,
      "outputs": []
    },
    {
      "cell_type": "code",
      "source": [
        "intervalo_confianca = st.t.interval(df=20-1, loc=22.9, scale=e, confidence=0.90)\n",
        "intervalo_confianca"
      ],
      "metadata": {
        "colab": {
          "base_uri": "https://localhost:8080/"
        },
        "id": "LM_L9WmMed6Z",
        "outputId": "46ab8bd1-b715-45a8-db65-4a616c5783de"
      },
      "execution_count": 5,
      "outputs": [
        {
          "output_type": "execute_result",
          "data": {
            "text/plain": [
              "(22.320031223696933, 23.479968776303064)"
            ]
          },
          "metadata": {},
          "execution_count": 5
        }
      ]
    },
    {
      "cell_type": "markdown",
      "source": [
        "#Exemplo\n",
        "\n",
        "Você seleciona aleatoriamente 16 cafeterias e mede a temperatura do café vendido em cada uma delas. A temperatura média de amostra é 162 (fahrenheit) com desvio padrão de 10. Contrua um intervalo de confiança de 95% para tempetatura média de população de cafés vendidos. Suponha que as temperaturas tenham distribuição aproximadamente normal."
      ],
      "metadata": {
        "id": "xZVVAt-2gy1m"
      }
    },
    {
      "cell_type": "code",
      "source": [
        "x = 162\n",
        "s = 10\n",
        "confianca = 0.95\n",
        "n = 16"
      ],
      "metadata": {
        "id": "pHpz4PGEhbWV"
      },
      "execution_count": 6,
      "outputs": []
    },
    {
      "cell_type": "code",
      "source": [
        "erro = s/(n**0.5)\n",
        "st.t.interval(df=n-1,loc=162,scale=erro,confidence=0.95,)"
      ],
      "metadata": {
        "colab": {
          "base_uri": "https://localhost:8080/"
        },
        "id": "T_46x5QQhx7m",
        "outputId": "63cbb44d-462d-4db0-9109-a4f4f9647ac6"
      },
      "execution_count": 7,
      "outputs": [
        {
          "output_type": "execute_result",
          "data": {
            "text/plain": [
              "(156.67137613610169, 167.32862386389831)"
            ]
          },
          "metadata": {},
          "execution_count": 7
        }
      ]
    }
  ]
}