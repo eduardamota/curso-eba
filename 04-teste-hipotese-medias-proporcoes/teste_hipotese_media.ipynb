{
  "nbformat": 4,
  "nbformat_minor": 0,
  "metadata": {
    "colab": {
      "provenance": [],
      "authorship_tag": "ABX9TyMvZMPi4oPqzBHYHKif2L6c",
      "include_colab_link": true
    },
    "kernelspec": {
      "name": "python3",
      "display_name": "Python 3"
    },
    "language_info": {
      "name": "python"
    }
  },
  "cells": [
    {
      "cell_type": "markdown",
      "metadata": {
        "id": "view-in-github",
        "colab_type": "text"
      },
      "source": [
        "<a href=\"https://colab.research.google.com/github/eduardamota/curso-eba/blob/main/teste_hipotese_media.ipynb\" target=\"_parent\"><img src=\"https://colab.research.google.com/assets/colab-badge.svg\" alt=\"Open In Colab\"/></a>"
      ]
    },
    {
      "cell_type": "markdown",
      "source": [
        "# Teste de Hipótese - Média\n",
        "\n",
        "**Exemplo:** Em corrida de carros, o pit stop é o local em que um veículo vai para trocar pneus, abastecer, efetuar reparos e outros ajustes mecânicos. A eficiência de uma equipe que realiza esses ajustes pode afetar o resultado de uma corrida. Uma equipe afirma que o seu tempo médio no pit stop (para 4 trocas de pneus e abastecimento) é menor que 13 segundos. Uma amostra aleatória de 32 temos de pit stop tem uma média de 12,9 segundos. Suponha que o desvio padrão populacional é de 0,19 segundos. Há evidência suficiente para concordar com a afirmação com 99% de confiança?"
      ],
      "metadata": {
        "id": "1Q1ZisTExhiO"
      }
    },
    {
      "cell_type": "code",
      "execution_count": 4,
      "metadata": {
        "id": "-yZ9XYFUxcdi"
      },
      "outputs": [],
      "source": [
        "#dados\n",
        "alpha = 0.99\n",
        "significancia = 1 - alpha\n",
        "n = 32\n",
        "desvio = 0.19\n",
        "mi = 13\n",
        "x = 12.9"
      ]
    },
    {
      "cell_type": "code",
      "source": [
        "import numpy as np\n",
        "\n",
        "z  = (x - mi) / (desvio/np.sqrt(n))\n",
        "z"
      ],
      "metadata": {
        "colab": {
          "base_uri": "https://localhost:8080/"
        },
        "id": "L6eK4SH5z0nc",
        "outputId": "187eb71a-7d4b-43e8-aa91-97a96cf82c9d"
      },
      "execution_count": 5,
      "outputs": [
        {
          "output_type": "execute_result",
          "data": {
            "text/plain": [
              "-2.977291710259137"
            ]
          },
          "metadata": {},
          "execution_count": 5
        }
      ]
    },
    {
      "cell_type": "code",
      "source": [
        "from scipy.stats import norm\n",
        "# Para um teste de uma cauda, usa-se a função ppf com 1 - alfa\n",
        "z_critico_uma_cauda = norm.ppf(1 - alpha)\n",
        "z_critico_uma_cauda"
      ],
      "metadata": {
        "colab": {
          "base_uri": "https://localhost:8080/"
        },
        "id": "KOgukjwP2agl",
        "outputId": "6301a76c-1e9f-4754-cd00-b74a737ddf28"
      },
      "execution_count": 7,
      "outputs": [
        {
          "output_type": "execute_result",
          "data": {
            "text/plain": [
              "-2.3263478740408408"
            ]
          },
          "metadata": {},
          "execution_count": 7
        }
      ]
    },
    {
      "cell_type": "code",
      "source": [
        "z_critico_uma_cauda > z"
      ],
      "metadata": {
        "colab": {
          "base_uri": "https://localhost:8080/"
        },
        "id": "MtO-0Tct2tPw",
        "outputId": "ba582000-9363-4531-a0cf-a52bb3f5a159"
      },
      "execution_count": 8,
      "outputs": [
        {
          "output_type": "execute_result",
          "data": {
            "text/plain": [
              "True"
            ]
          },
          "metadata": {},
          "execution_count": 8
        }
      ]
    },
    {
      "cell_type": "markdown",
      "source": [
        "Com o nível de significância de 1% temos envidências para rejeitar a hipótese que o pit stop é maior que 13 segundos. Logo, concordamos com a afirmação que é menor que 13s."
      ],
      "metadata": {
        "id": "SEgGkM2A4aQo"
      }
    },
    {
      "cell_type": "code",
      "source": [
        "p_valor = norm.cdf(z)\n",
        "p_valor"
      ],
      "metadata": {
        "colab": {
          "base_uri": "https://localhost:8080/"
        },
        "id": "4UlZY7MC4rxA",
        "outputId": "03e8c018-84fb-4e1f-85b8-a6bccea256a2"
      },
      "execution_count": 14,
      "outputs": [
        {
          "output_type": "execute_result",
          "data": {
            "text/plain": [
              "0.0014540358484991462"
            ]
          },
          "metadata": {},
          "execution_count": 14
        }
      ]
    },
    {
      "cell_type": "code",
      "source": [
        "# Caso eu tenha um dataframe posso usar a seguinte a bibloteca do statsmodels e o módulo ztest\n",
        "\n",
        "'''\n",
        "  from statsmodels.stats.weightstats import ztest as ztest\n",
        "  #coluna com dados\n",
        "  data = df [\"amostras\"]\n",
        "  ztest(data, value=100) #value é o valor que eu quero comparar\n",
        "\n",
        "  o resulta será o p valor\n",
        "'''\n"
      ],
      "metadata": {
        "id": "C5_CwWhL7_Se"
      },
      "execution_count": null,
      "outputs": []
    }
  ]
}