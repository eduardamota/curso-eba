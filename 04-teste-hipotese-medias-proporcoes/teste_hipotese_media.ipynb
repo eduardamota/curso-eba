{
  "cells": [
    {
      "cell_type": "markdown",
      "metadata": {
        "colab_type": "text",
        "id": "view-in-github"
      },
      "source": [
        "<a href=\"https://colab.research.google.com/github/eduardamota/curso-eba/blob/main/teste_hipotese_media.ipynb\" target=\"_parent\"><img src=\"https://colab.research.google.com/assets/colab-badge.svg\" alt=\"Open In Colab\"/></a>"
      ]
    },
    {
      "cell_type": "markdown",
      "metadata": {
        "id": "1Q1ZisTExhiO"
      },
      "source": [
        "# Teste de Hipótese - Média\n",
        "\n",
        "**Exemplo:** Em corrida de carros, o pit stop é o local em que um veículo vai para trocar pneus, abastecer, efetuar reparos e outros ajustes mecânicos. A eficiência de uma equipe que realiza esses ajustes pode afetar o resultado de uma corrida. Uma equipe afirma que o seu tempo médio no pit stop (para 4 trocas de pneus e abastecimento) é menor que 13 segundos. Uma amostra aleatória de 32 temos de pit stop tem uma média de 12,9 segundos. Suponha que o desvio padrão populacional é de 0,19 segundos. Há evidência suficiente para concordar com a afirmação com 99% de confiança?"
      ]
    },
    {
      "cell_type": "code",
      "execution_count": 4,
      "metadata": {
        "id": "-yZ9XYFUxcdi"
      },
      "outputs": [],
      "source": [
        "#dados\n",
        "alpha = 0.99\n",
        "significancia = 1 - alpha\n",
        "n = 32\n",
        "desvio = 0.19\n",
        "mi = 13\n",
        "x = 12.9"
      ]
    },
    {
      "cell_type": "code",
      "execution_count": 5,
      "metadata": {
        "colab": {
          "base_uri": "https://localhost:8080/"
        },
        "id": "L6eK4SH5z0nc",
        "outputId": "187eb71a-7d4b-43e8-aa91-97a96cf82c9d"
      },
      "outputs": [
        {
          "data": {
            "text/plain": [
              "-2.977291710259137"
            ]
          },
          "execution_count": 5,
          "metadata": {},
          "output_type": "execute_result"
        }
      ],
      "source": [
        "import numpy as np\n",
        "\n",
        "z  = (x - mi) / (desvio/np.sqrt(n))\n",
        "z"
      ]
    },
    {
      "cell_type": "code",
      "execution_count": 7,
      "metadata": {
        "colab": {
          "base_uri": "https://localhost:8080/"
        },
        "id": "KOgukjwP2agl",
        "outputId": "6301a76c-1e9f-4754-cd00-b74a737ddf28"
      },
      "outputs": [
        {
          "data": {
            "text/plain": [
              "-2.3263478740408408"
            ]
          },
          "execution_count": 7,
          "metadata": {},
          "output_type": "execute_result"
        }
      ],
      "source": [
        "from scipy.stats import norm\n",
        "# Para um teste de uma cauda, usa-se a função ppf com 1 - alfa\n",
        "z_critico_uma_cauda = norm.ppf(1 - alpha)\n",
        "z_critico_uma_cauda"
      ]
    },
    {
      "cell_type": "code",
      "execution_count": 8,
      "metadata": {
        "colab": {
          "base_uri": "https://localhost:8080/"
        },
        "id": "MtO-0Tct2tPw",
        "outputId": "ba582000-9363-4531-a0cf-a52bb3f5a159"
      },
      "outputs": [
        {
          "data": {
            "text/plain": [
              "True"
            ]
          },
          "execution_count": 8,
          "metadata": {},
          "output_type": "execute_result"
        }
      ],
      "source": [
        "z_critico_uma_cauda > z"
      ]
    },
    {
      "cell_type": "markdown",
      "metadata": {
        "id": "SEgGkM2A4aQo"
      },
      "source": [
        "Com o nível de significância de 1% temos envidências para rejeitar a hipótese que o pit stop é maior que 13 segundos. Logo, concordamos com a afirmação que é menor que 13s."
      ]
    },
    {
      "cell_type": "code",
      "execution_count": 14,
      "metadata": {
        "colab": {
          "base_uri": "https://localhost:8080/"
        },
        "id": "4UlZY7MC4rxA",
        "outputId": "03e8c018-84fb-4e1f-85b8-a6bccea256a2"
      },
      "outputs": [
        {
          "data": {
            "text/plain": [
              "0.0014540358484991462"
            ]
          },
          "execution_count": 14,
          "metadata": {},
          "output_type": "execute_result"
        }
      ],
      "source": [
        "p_valor = norm.cdf(z)\n",
        "p_valor"
      ]
    },
    {
      "cell_type": "code",
      "execution_count": null,
      "metadata": {
        "id": "C5_CwWhL7_Se"
      },
      "outputs": [],
      "source": [
        "# Caso eu tenha um dataframe posso usar a seguinte a bibloteca do statsmodels e o módulo ztest\n",
        "\n",
        "'''\n",
        "  from statsmodels.stats.weightstats import ztest as ztest\n",
        "  #coluna com dados\n",
        "  data = df [\"amostras\"]\n",
        "  ztest(data, value=100) #value é o valor que eu quero comparar\n",
        "\n",
        "  o resulta será o p valor\n",
        "'''\n"
      ]
    },
    {
      "cell_type": "markdown",
      "metadata": {},
      "source": [
        "## Teste de Hipótese - Média\n",
        "**Desvio padrão desconhecido**\n",
        "\n",
        "\n",
        "**Exemplo:** Em corrida de carros, o pit stop é o local em que um veículo vai para trocar pneus, abastecer, efetuar reparos e outros ajustes mecânicos. A eficiência de uma equipe que realiza esses ajustes pode afetar o resultado de uma corrida. Uma equipe afirma que o seu tempo médio no pit stop (para 4 trocas de pneus e abastecimento) é menor que 13 segundos. Uma amostra aleatória de 32 temos de pit stop tem uma média de 12,9 segundos. Suponha que o desvio padrão amostral é de 0,4 segundos. Há evidência suficiente para concordar com a afirmação com 99% de confiança?"
      ]
    },
    {
      "cell_type": "code",
      "execution_count": 2,
      "metadata": {},
      "outputs": [
        {
          "data": {
            "text/plain": [
              "8.363231544793761"
            ]
          },
          "execution_count": 2,
          "metadata": {},
          "output_type": "execute_result"
        }
      ],
      "source": [
        "import scipy.stats\n",
        "t = (12.9-13)/(0.4/(32**0.5))\n",
        "dof=32-1\n",
        "\n",
        "p_valor = scipy.stats.t.sf(abs(t),df=dof)\n",
        "p_valor*100"
      ]
    },
    {
      "cell_type": "markdown",
      "metadata": {},
      "source": [
        "O p-valor é maior que meu nível de significância, logo temos evidências para aceita a hipótese nula. Logo, falamso que a troca é maior ou igual a 13s."
      ]
    },
    {
      "cell_type": "code",
      "execution_count": null,
      "metadata": {},
      "outputs": [],
      "source": [
        "'''\n",
        "--- Caso tivesse trabalhando com um dataframe ---\n",
        "from scipy import stats\n",
        "value = 13 #valor comparado\n",
        "result = stats.ttest_lsamp(df[\"amostra\"],value)\n",
        "print(result.pvalue)\n",
        "'''"
      ]
    },
    {
      "cell_type": "markdown",
      "metadata": {},
      "source": [
        "### Teste de Hipótese para duas amostras\n",
        "- Duas amostras são **independentes** quando a amostra selecionada de uma população não é relacionada a segunda a amostra.\n",
        "- Duas amostras são **dependentes** quando cada elemento de uma amostra corresponde a um elemento da outra amostra. Essas amostras também são chamadas de amostras pareadas ou amostras emparelhadas."
      ]
    },
    {
      "cell_type": "markdown",
      "metadata": {},
      "source": [
        "##### Desvio padrão populacional conhecido e amostras independentes "
      ]
    },
    {
      "cell_type": "code",
      "execution_count": null,
      "metadata": {},
      "outputs": [],
      "source": [
        "'''\n",
        "--- Caso tivesse trabalhando com um dataframe ---\n",
        "from statsmodels.stats.weightstats import zteste as ztest\n",
        "\n",
        "#especifique as colunas que quer comparar\n",
        "cityA = df[\"A\"]\n",
        "cityB = df[\"B\"]\n",
        "\n",
        "#Rodando o teste\n",
        "ztest(cityA, cityB)\n",
        "'''"
      ]
    },
    {
      "cell_type": "markdown",
      "metadata": {},
      "source": [
        "##### Desvio padrão populacional desconhecido e amostras independentes \n",
        "Exemplo: Os resultados de um teste estadual de matemática para amostras aleatórias de estudantes ensinados por dois professores diferentes na mesma escola. Podemos concluir que há diferença nas pontuações médias dos testes de matemática para todos os estudantes dos dois professores? Use confiança de 90%. Suponha que as populações são normalmente distribuídas e que as variâncias populacionais não são iguais. "
      ]
    },
    {
      "cell_type": "code",
      "execution_count": 3,
      "metadata": {},
      "outputs": [],
      "source": [
        "x1 = 473\n",
        "s1 = 39.7\n",
        "n1 = 8\n",
        "x2 = 459\n",
        "s2 = 24.5\n",
        "n2 = 18"
      ]
    },
    {
      "cell_type": "code",
      "execution_count": 6,
      "metadata": {},
      "outputs": [
        {
          "data": {
            "text/plain": [
              "(0.37924039002820076, False)"
            ]
          },
          "execution_count": 6,
          "metadata": {},
          "output_type": "execute_result"
        }
      ],
      "source": [
        "import scipy.stats as stats\n",
        "\n",
        "# Nível de significância para 90% de confiança\n",
        "alpha = 0.10\n",
        "\n",
        "# Realizando o teste t de Welch (duas amostras independentes com variâncias desiguais)\n",
        "t_statistic, p_value = stats.ttest_ind_from_stats(mean1=x1, std1=s1, nobs1=n1,\n",
        "                                                  mean2=x2, std2=s2, nobs2=n2,\n",
        "                                                  equal_var=False)\n",
        "\n",
        "# Resultado do teste e decisão sobre a hipótese nula\n",
        "p_value, p_value < alpha\n",
        "\n"
      ]
    },
    {
      "cell_type": "markdown",
      "metadata": {},
      "source": [
        "Não temos evidência suficiente para rejeitar a hipótese nula, ao nível de significância de 10%. Logo, concordamos com a afirmação de que as pontuações médias dos professores são diferentes."
      ]
    }
  ],
  "metadata": {
    "colab": {
      "authorship_tag": "ABX9TyMvZMPi4oPqzBHYHKif2L6c",
      "include_colab_link": true,
      "provenance": []
    },
    "kernelspec": {
      "display_name": "Python 3",
      "name": "python3"
    },
    "language_info": {
      "codemirror_mode": {
        "name": "ipython",
        "version": 3
      },
      "file_extension": ".py",
      "mimetype": "text/x-python",
      "name": "python",
      "nbconvert_exporter": "python",
      "pygments_lexer": "ipython3",
      "version": "3.11.5"
    }
  },
  "nbformat": 4,
  "nbformat_minor": 0
}
