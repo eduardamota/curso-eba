{
  "nbformat": 4,
  "nbformat_minor": 0,
  "metadata": {
    "colab": {
      "provenance": [],
      "authorship_tag": "ABX9TyN+RKZmE1B8EMwp96UbCC1C",
      "include_colab_link": true
    },
    "kernelspec": {
      "name": "python3",
      "display_name": "Python 3"
    },
    "language_info": {
      "name": "python"
    }
  },
  "cells": [
    {
      "cell_type": "markdown",
      "metadata": {
        "id": "view-in-github",
        "colab_type": "text"
      },
      "source": [
        "<a href=\"https://colab.research.google.com/github/eduardamota/curso-eba/blob/main/ex_prob_distribuicao.ipynb\" target=\"_parent\"><img src=\"https://colab.research.google.com/assets/colab-badge.svg\" alt=\"Open In Colab\"/></a>"
      ]
    },
    {
      "cell_type": "markdown",
      "source": [
        "# Probabilidade e distribuição\n",
        "\n",
        "1. **Um dado justo de seis faces é lançado duas vezes. Qual é a probabilidade de obter um número par no primeiro lançamento e um número ímpar no segundo lançamento?**\n",
        "\n",
        "2. **Um dado honesto é lançado repetidamente até que um número maior que 4 seja observado.** **Qual é a probabilidade de você precisar de 4 jogadas para obter um número maior que 4?**\n",
        "\n",
        "3. **Em uma escola, 60% dos alunos estudam Matemática e 40% estudam Ciências. Sabendo que 30% dos alunos estudam tanto Matemática quanto Ciências, qual é a probabilidade de selecionar um aluno aleatoriamente e ele estudar apenas uma das duas disciplinas?**\n",
        "\n",
        "4. **Em um baralho padrão de 52 cartas, qual é a probabilidade de tirar uma carta de ouros e, em seguida, uma carta de espadas, se as cartas são retiradas com reposição?**\n",
        "\n",
        "5. **Uma empresa de tecnologia produz dois modelos de smartphones: A e B. Sabe-se que 60% dos clientes escolhem o modelo A e 40% escolhem o modelo B. Além disso, sabe-se que 5% dos clientes que compram o modelo A relatam problemas técnicos, enquanto 10% dos clientes que compram o modelo B relatam problemas técnicos. Se um cliente escolhido aleatoriamente relatar problemas técnicos, qual é a probabilidade de que ele tenha escolhido o modelo A?**\n",
        "\n",
        "6. **Uma clínica médica realiza dois testes (Teste A e Teste B) para diagnosticar uma doença. Sabe-se que o Teste A detecta corretamente a doença em 95% dos casos em que ela está presente, mas também pode dar um resultado positivo em 10% dos casos em que a pessoa está saudável. Já o Teste B tem uma taxa de acerto de 90% para detecção da doença e uma taxa de falsos positivos de 5%. Se um paciente testar positivo em ambos os testes, qual é a probabilidade de ele realmente ter a doença? **Considere que a probabilidade de uma pessoa desenvolver a doença é 0.1**\n",
        "    \n",
        "\n",
        "7. **Uma loja de eletrônicos oferece três modelos de smartphones (A, B e C) e os clientes podem escolher um dos três modelos. Sabe-se que 50% dos clientes escolhem o modelo A, 30% escolhem o modelo B e 20% escolhem o modelo C. Além disso, a loja tem uma política de garantia estendida, onde 10% dos clientes que escolhem o modelo A compram a garantia estendida, 15% dos clientes que escolhem o modelo B compram a garantia estendida e 20% dos clientes que escolhem o modelo C compram a garantia estendida. Se um cliente é selecionado aleatoriamente, qual é a probabilidade de ele comprar a garantia estendida?**\n",
        "\n",
        "8. Plus: **Qual a diferença entre probabilidade e verossimilhança (likelihood)?**\n",
        "\n",
        "9. **Imagine que Jeremy participou de um exame. O teste está tendo uma pontuação média de 160 e um desvio padrão de 15. Se o escore z de Jeremy for 1,20, qual seria sua pontuação no teste? Escreva o racional do cálculo**"
      ],
      "metadata": {
        "id": "Pw_TCjK91uvM"
      }
    },
    {
      "cell_type": "code",
      "source": [
        "#imports\n",
        "from scipy.stats import binom, norm\n",
        "import math\n",
        "import pandas as pd\n",
        "import seaborn as sns\n",
        "import numpy as np"
      ],
      "metadata": {
        "id": "8oSjlygO5oAQ"
      },
      "execution_count": 1,
      "outputs": []
    },
    {
      "cell_type": "code",
      "source": [
        "#Questão 1\n",
        "n=6\n",
        "s_par = 3\n",
        "s_impar = 3\n",
        "prob = s_par/n\n",
        "prob*prob"
      ],
      "metadata": {
        "colab": {
          "base_uri": "https://localhost:8080/"
        },
        "id": "frs1XpSJ2T3p",
        "outputId": "c4aff50f-9b2d-48f9-a044-a8b7cf47534c"
      },
      "execution_count": 2,
      "outputs": [
        {
          "output_type": "execute_result",
          "data": {
            "text/plain": [
              "0.25"
            ]
          },
          "metadata": {},
          "execution_count": 2
        }
      ]
    },
    {
      "cell_type": "markdown",
      "source": [
        "**Questão 2**\n",
        "Temos que a 1º até a 3º tentativa, temos uma probabilidade de 4/6 e na quarta 2/6."
      ],
      "metadata": {
        "id": "MFlYWLwa6Dw_"
      }
    },
    {
      "cell_type": "code",
      "source": [
        "prob =(4/6)*(4/6)*(4/6)*(2/6)\n",
        "prob"
      ],
      "metadata": {
        "colab": {
          "base_uri": "https://localhost:8080/"
        },
        "id": "6XSCIhQ721Nj",
        "outputId": "a3e36d82-bf70-438a-81a8-e3bc3281fdef"
      },
      "execution_count": 3,
      "outputs": [
        {
          "output_type": "execute_result",
          "data": {
            "text/plain": [
              "0.09876543209876543"
            ]
          },
          "metadata": {},
          "execution_count": 3
        }
      ]
    },
    {
      "cell_type": "code",
      "source": [
        "#Questão 3\n",
        "p_m = 0.6 - 0.3\n",
        "p_c = 0.4 - 0.3\n",
        "p_total = p_m+p_c\n",
        "p_total"
      ],
      "metadata": {
        "colab": {
          "base_uri": "https://localhost:8080/"
        },
        "id": "uIV54Qq86oFq",
        "outputId": "86e1338c-d32d-4caa-e8b0-c0afa8fe8e5c"
      },
      "execution_count": 4,
      "outputs": [
        {
          "output_type": "execute_result",
          "data": {
            "text/plain": [
              "0.4"
            ]
          },
          "metadata": {},
          "execution_count": 4
        }
      ]
    },
    {
      "cell_type": "code",
      "source": [
        "#Questão 4\n",
        "prob = (13/52)*(13/52)\n",
        "prob"
      ],
      "metadata": {
        "colab": {
          "base_uri": "https://localhost:8080/"
        },
        "id": "mS1EvCR48klg",
        "outputId": "d1000197-1bdf-4c55-a4ea-75cbcd19be6b"
      },
      "execution_count": 5,
      "outputs": [
        {
          "output_type": "execute_result",
          "data": {
            "text/plain": [
              "0.0625"
            ]
          },
          "metadata": {},
          "execution_count": 5
        }
      ]
    },
    {
      "cell_type": "code",
      "source": [
        "#Questão 5\n",
        "p_def_a = 0.05\n",
        "p_def_b = 0.1\n",
        "p_a = 0.6\n",
        "p_b = 0.4\n",
        "\n",
        "p_problema = (p_a*p_def_a)+(p_b*p_def_b)\n",
        "p_a_problema = (p_a * p_def_a)/p_problema\n",
        "p_a_problema"
      ],
      "metadata": {
        "colab": {
          "base_uri": "https://localhost:8080/"
        },
        "id": "GiSgXIbs9FBY",
        "outputId": "a6594ad0-25b8-42bf-87f9-d246eb14507b"
      },
      "execution_count": 6,
      "outputs": [
        {
          "output_type": "execute_result",
          "data": {
            "text/plain": [
              "0.4285714285714285"
            ]
          },
          "metadata": {},
          "execution_count": 6
        }
      ]
    },
    {
      "cell_type": "code",
      "source": [
        "#Questão 6\n",
        "'''\n",
        "s = SAUDAVEL\n",
        "d = doente\n",
        "a = positivo em a\n",
        "b = positivo em b\n",
        "pos  = positivo\n",
        "'''\n",
        "p_d =0.1\n",
        "p_s = 0.9\n",
        "pa_d= 0.95\n",
        "pa_s=0.1\n",
        "pb_d = 0.9\n",
        "pb_s = 0.05\n",
        "\n",
        "pab_d = pa_d * pb_d\n",
        "pab_s = pa_s * pb_s\n"
      ],
      "metadata": {
        "id": "Jpq2lZ8-BWxZ"
      },
      "execution_count": 7,
      "outputs": []
    },
    {
      "cell_type": "code",
      "source": [
        "pos = (pab_d * p_d) + (pab_s * p_s)\n",
        "pos"
      ],
      "metadata": {
        "colab": {
          "base_uri": "https://localhost:8080/"
        },
        "id": "YpZ27hB3FNie",
        "outputId": "e8223450-6af4-41cd-de94-0ce7074b3872"
      },
      "execution_count": 8,
      "outputs": [
        {
          "output_type": "execute_result",
          "data": {
            "text/plain": [
              "0.09000000000000001"
            ]
          },
          "metadata": {},
          "execution_count": 8
        }
      ]
    },
    {
      "cell_type": "code",
      "source": [
        "pd_ab = (p_d * pab_d)/pos\n",
        "pd_ab"
      ],
      "metadata": {
        "colab": {
          "base_uri": "https://localhost:8080/"
        },
        "id": "_B4s3x9CFyPa",
        "outputId": "ea1a1f40-baef-487e-8d5b-e0c817d0316d"
      },
      "execution_count": 9,
      "outputs": [
        {
          "output_type": "execute_result",
          "data": {
            "text/plain": [
              "0.95"
            ]
          },
          "metadata": {},
          "execution_count": 9
        }
      ]
    },
    {
      "cell_type": "code",
      "source": [
        "#Questão 7\n",
        "p_a = 0.5\n",
        "p_b = 0.30\n",
        "p_c = 0.2\n",
        "\n",
        "p_e_a = 0.1\n",
        "p_e_b = 0.15\n",
        "p_e_c = 0.2\n",
        "\n",
        "p_e = (p_e_a*p_a) +(p_e_b*p_b) + (p_e_c*p_c)\n",
        "p_e"
      ],
      "metadata": {
        "id": "nUWp5Ta7xsHg",
        "outputId": "811035ef-3812-4c67-87d7-aadd861724c7",
        "colab": {
          "base_uri": "https://localhost:8080/"
        }
      },
      "execution_count": 11,
      "outputs": [
        {
          "output_type": "execute_result",
          "data": {
            "text/plain": [
              "0.135"
            ]
          },
          "metadata": {},
          "execution_count": 11
        }
      ]
    },
    {
      "cell_type": "markdown",
      "source": [
        "## Questão 8\n",
        "- A **probabilidade** é uma qtd de chances de uma frequência de um evento acontecer, podendo variar entre 0 e 1 (NÃO EXISTE PROB NEGATIVA!).\n",
        "- **Verossimilhança** é uma medida que vai avaliar quão bem um modelo estatístico se ajusta aos dados. Ou seja, ela vai dizer qual é a probabilidade de termos aqueles dados no conjunto que passei para o modelo."
      ],
      "metadata": {
        "id": "Ag1_TGGcz7at"
      }
    },
    {
      "cell_type": "code",
      "source": [
        "#Questão 9\n",
        "x = (1.2*15)+160\n",
        "x"
      ],
      "metadata": {
        "id": "XmMLMgkE2MrF",
        "outputId": "32aa4db6-2f54-4122-f852-37efb5ec3866",
        "colab": {
          "base_uri": "https://localhost:8080/"
        }
      },
      "execution_count": 14,
      "outputs": [
        {
          "output_type": "execute_result",
          "data": {
            "text/plain": [
              "178.0"
            ]
          },
          "metadata": {},
          "execution_count": 14
        }
      ]
    }
  ]
}