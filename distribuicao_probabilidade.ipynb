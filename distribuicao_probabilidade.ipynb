{
  "nbformat": 4,
  "nbformat_minor": 0,
  "metadata": {
    "colab": {
      "provenance": [],
      "authorship_tag": "ABX9TyNCCVdIoEDJL5CpepmFdJn2",
      "include_colab_link": true
    },
    "kernelspec": {
      "name": "python3",
      "display_name": "Python 3"
    },
    "language_info": {
      "name": "python"
    }
  },
  "cells": [
    {
      "cell_type": "markdown",
      "metadata": {
        "id": "view-in-github",
        "colab_type": "text"
      },
      "source": [
        "<a href=\"https://colab.research.google.com/github/eduardamota/curso-eba/blob/main/distribuicao_probabilidade.ipynb\" target=\"_parent\"><img src=\"https://colab.research.google.com/assets/colab-badge.svg\" alt=\"Open In Colab\"/></a>"
      ]
    },
    {
      "cell_type": "code",
      "execution_count": 1,
      "metadata": {
        "id": "X9ESK4GXfVWd"
      },
      "outputs": [],
      "source": [
        "from scipy.stats import binom, norm\n",
        "import math\n",
        "import pandas as pd\n",
        "import seaborn as sns\n",
        "import numpy as npb"
      ]
    },
    {
      "cell_type": "markdown",
      "source": [
        "Suponha que na minha loja 10% de todos os pedidos são devolvidos a cada semana. Se houver alta probabilidade de ter 3 ou mais devoluções por semana, precisamos contratar um assistente temporário. Suponha que naquela semana a loja realizou 50 vendas em uma semana. Qual é a probabilidade de ter que contratar um assistente temporário? X = Qtd de devolução, n=50 compras, p=probabilidade de devolução= 10%."
      ],
      "metadata": {
        "id": "8B5p5wEUfpw9"
      }
    },
    {
      "cell_type": "code",
      "source": [
        "n=50\n",
        "p=0.1\n",
        "k=3\n",
        "q=0.9"
      ],
      "metadata": {
        "id": "jAbe734Cfm4L"
      },
      "execution_count": 2,
      "outputs": []
    },
    {
      "cell_type": "code",
      "source": [
        "1-binom.cdf(k,n,p)"
      ],
      "metadata": {
        "colab": {
          "base_uri": "https://localhost:8080/"
        },
        "id": "BAQ_Iz3xgYOM",
        "outputId": "48f6bb33-3a10-40c3-abda-89103e3b1bf5"
      },
      "execution_count": 3,
      "outputs": [
        {
          "output_type": "execute_result",
          "data": {
            "text/plain": [
              "0.749706094046692"
            ]
          },
          "metadata": {},
          "execution_count": 3
        }
      ]
    },
    {
      "cell_type": "markdown",
      "source": [
        "# Distribuição Contínua\n",
        "Ex: Considerando que temos uma distribuição normal e que nosso x=20. Quantos dados estão abaixo de x=20? Suponha que a distribuição tem média=15 e desvio padrão=8,9."
      ],
      "metadata": {
        "id": "OAnIG2LFw9_t"
      }
    },
    {
      "cell_type": "code",
      "source": [
        "z = (20-15)/8.9\n",
        "z"
      ],
      "metadata": {
        "id": "mCAliFUZw8q0",
        "outputId": "61d3f53d-3daa-4a61-8d7e-62e69f6b348b",
        "colab": {
          "base_uri": "https://localhost:8080/"
        }
      },
      "execution_count": 5,
      "outputs": [
        {
          "output_type": "execute_result",
          "data": {
            "text/plain": [
              "0.5617977528089887"
            ]
          },
          "metadata": {},
          "execution_count": 5
        }
      ]
    },
    {
      "cell_type": "markdown",
      "source": [
        "Uma pesquisa indica que, para cada ida ao supermercado, um consumidor permanece na loja em média 45 minutos, com desvio padrão de 12 minutos. A duração dos tempos gastos na loja é normalmente distribuída e representada pela varável x. Um consumidor entra na loja.\n",
        "- a) Calcule a probabilidade de que ele ficará na loja, para cada intervalo de tempo listado a seguir.\n",
        "- b) Interprete sua resposta quando 200 consumidores entrarem na loja. Quantos consumidores você esperaria que estivessem na loja para cada intervalo de tempo listado a seguir?\n",
        "1. Entre 24 e 54 minutos\n",
        "2. Mais que 39 minutos"
      ],
      "metadata": {
        "id": "_V_SwSF80pT6"
      }
    },
    {
      "cell_type": "code",
      "source": [
        "z1 = (24-45)/12\n",
        "z2 = (54-45)/12\n",
        "z1_score = norm.cdf(z1)\n",
        "z2_score = norm.cdf(z2)\n",
        "print(z2_score-z1_score)"
      ],
      "metadata": {
        "id": "chuZ9d-e2eyw",
        "outputId": "74d56800-0b40-4886-a022-a03f6543474a",
        "colab": {
          "base_uri": "https://localhost:8080/"
        }
      },
      "execution_count": 8,
      "outputs": [
        {
          "output_type": "stream",
          "name": "stdout",
          "text": [
            "0.7333134907593146\n"
          ]
        }
      ]
    },
    {
      "cell_type": "code",
      "source": [
        "z3 = (39-45)/12\n",
        "z3_score = norm.cdf(z3)\n",
        "print(1-z3_score)\n",
        "print(f\"Volume de clientes no período {200*(1-z3_score):.0f}\")"
      ],
      "metadata": {
        "id": "7Bf-GpK44GPF",
        "outputId": "677bbbfc-9659-40fb-bc8f-4ba31e31dfb1",
        "colab": {
          "base_uri": "https://localhost:8080/"
        }
      },
      "execution_count": 14,
      "outputs": [
        {
          "output_type": "stream",
          "name": "stdout",
          "text": [
            "0.6914624612740131\n",
            "Volume de clientes no período 138\n"
          ]
        }
      ]
    },
    {
      "cell_type": "markdown",
      "source": [
        "# Por que precisamos de dados normais?\n",
        "Vários procedimentos estatísticos são baseados na suposição de que os dados seguem uma distribuição normal ou então mais ou menos simétrica. Mas, em alguns casos a distribuição dos nossos dados é asssimétrica e pode conter dados atípicos.\n",
        "1. Teorema do limite central:\n",
        "  - Somente para as médias amostrais\n",
        "2. Transformar os dados em normais\n",
        "  - Log, boxcox, etc\n",
        "3. Uso de testes e procedimentos que suportem a não normalidade\n",
        "  - Testes não paramétricos\n",
        "\n",
        "\n"
      ],
      "metadata": {
        "id": "XpagM6-b5TDz"
      }
    },
    {
      "cell_type": "markdown",
      "source": [
        "## **Teorema do limite central**\n",
        "Para uma distribuição com pelo menos 30 dados, a distribuição da média de subamostras dessa distribuição seguirá uma normal."
      ],
      "metadata": {
        "id": "jprVCSph6hlx"
      }
    }
  ]
}