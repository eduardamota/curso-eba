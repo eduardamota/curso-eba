{
  "nbformat": 4,
  "nbformat_minor": 0,
  "metadata": {
    "colab": {
      "provenance": [],
      "authorship_tag": "ABX9TyMcg/EQ5Eomi8Lk2utC4zXM",
      "include_colab_link": true
    },
    "kernelspec": {
      "name": "python3",
      "display_name": "Python 3"
    },
    "language_info": {
      "name": "python"
    }
  },
  "cells": [
    {
      "cell_type": "markdown",
      "metadata": {
        "id": "view-in-github",
        "colab_type": "text"
      },
      "source": [
        "<a href=\"https://colab.research.google.com/github/eduardamota/curso-eba/blob/main/distribuicao_probabilidade.ipynb\" target=\"_parent\"><img src=\"https://colab.research.google.com/assets/colab-badge.svg\" alt=\"Open In Colab\"/></a>"
      ]
    },
    {
      "cell_type": "code",
      "execution_count": 1,
      "metadata": {
        "id": "X9ESK4GXfVWd"
      },
      "outputs": [],
      "source": [
        "from scipy.stats import binom, norm\n",
        "import math\n",
        "import pandas as pd\n",
        "import seaborn as sns\n",
        "import numpy as npb"
      ]
    },
    {
      "cell_type": "markdown",
      "source": [
        "Suponha que na minha loja 10% de todos os pedidos são devolvidos a cada semana. Se houver alta probabilidade de ter 3 ou mais devoluções por semana, precisamos contratar um assistente temporário. Suponha que naquela semana a loja realizou 50 vendas em uma semana. Qual é a probabilidade de ter que contratar um assistente temporário? X = Qtd de devolução, n=50 compras, p=probabilidade de devolução= 10%."
      ],
      "metadata": {
        "id": "8B5p5wEUfpw9"
      }
    },
    {
      "cell_type": "code",
      "source": [
        "n=50\n",
        "p=0.1\n",
        "k=3\n",
        "q=0.9"
      ],
      "metadata": {
        "id": "jAbe734Cfm4L"
      },
      "execution_count": 2,
      "outputs": []
    },
    {
      "cell_type": "code",
      "source": [
        "1-binom.cdf(k,n,p)"
      ],
      "metadata": {
        "colab": {
          "base_uri": "https://localhost:8080/"
        },
        "id": "BAQ_Iz3xgYOM",
        "outputId": "f750d621-4878-4339-957f-5443fcfa1858"
      },
      "execution_count": 4,
      "outputs": [
        {
          "output_type": "execute_result",
          "data": {
            "text/plain": [
              "0.749706094046692"
            ]
          },
          "metadata": {},
          "execution_count": 4
        }
      ]
    }
  ]
}