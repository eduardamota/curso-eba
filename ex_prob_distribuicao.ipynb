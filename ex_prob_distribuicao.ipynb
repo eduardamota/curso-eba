{
  "nbformat": 4,
  "nbformat_minor": 0,
  "metadata": {
    "colab": {
      "provenance": [],
      "authorship_tag": "ABX9TyOqCiEuWyyn4rpliSUjpg68",
      "include_colab_link": true
    },
    "kernelspec": {
      "name": "python3",
      "display_name": "Python 3"
    },
    "language_info": {
      "name": "python"
    }
  },
  "cells": [
    {
      "cell_type": "markdown",
      "metadata": {
        "id": "view-in-github",
        "colab_type": "text"
      },
      "source": [
        "<a href=\"https://colab.research.google.com/github/eduardamota/curso-eba/blob/main/ex_prob_distribuicao.ipynb\" target=\"_parent\"><img src=\"https://colab.research.google.com/assets/colab-badge.svg\" alt=\"Open In Colab\"/></a>"
      ]
    },
    {
      "cell_type": "markdown",
      "source": [
        "# Probabilidade e distribuição\n",
        "\n",
        "1. **Um dado justo de seis faces é lançado duas vezes. Qual é a probabilidade de obter um número par no primeiro lançamento e um número ímpar no segundo lançamento?**\n",
        "\n",
        "2. **Um dado honesto é lançado repetidamente até que um número maior que 4 seja observado.** **Qual é a probabilidade de você precisar de 4 jogadas para obter um número maior que 4?**\n",
        "\n",
        "3. **Em uma escola, 60% dos alunos estudam Matemática e 40% estudam Ciências. Sabendo que 30% dos alunos estudam tanto Matemática quanto Ciências, qual é a probabilidade de selecionar um aluno aleatoriamente e ele estudar apenas uma das duas disciplinas?**\n",
        "\n",
        "4. **Em um baralho padrão de 52 cartas, qual é a probabilidade de tirar uma carta de ouros e, em seguida, uma carta de espadas, se as cartas são retiradas com reposição?**\n",
        "\n",
        "5. **Uma empresa de tecnologia produz dois modelos de smartphones: A e B. Sabe-se que 60% dos clientes escolhem o modelo A e 40% escolhem o modelo B. Além disso, sabe-se que 5% dos clientes que compram o modelo A relatam problemas técnicos, enquanto 10% dos clientes que compram o modelo B relatam problemas técnicos. Se um cliente escolhido aleatoriamente relatar problemas técnicos, qual é a probabilidade de que ele tenha escolhido o modelo A?**\n",
        "\n",
        "6. **Uma clínica médica realiza dois testes (Teste A e Teste B) para diagnosticar uma doença. Sabe-se que o Teste A detecta corretamente a doença em 95% dos casos em que ela está presente, mas também pode dar um resultado positivo em 10% dos casos em que a pessoa está saudável. Já o Teste B tem uma taxa de acerto de 90% para detecção da doença e uma taxa de falsos positivos de 5%. Se um paciente testar positivo em ambos os testes, qual é a probabilidade de ele realmente ter a doença? **Considere que a probabilidade de uma pessoa desenvolver a doença é 0.1**\n",
        "    \n",
        "\n",
        "7. **Uma loja de eletrônicos oferece três modelos de smartphones (A, B e C) e os clientes podem escolher um dos três modelos. Sabe-se que 50% dos clientes escolhem o modelo A, 30% escolhem o modelo B e 20% escolhem o modelo C. Além disso, a loja tem uma política de garantia estendida, onde 10% dos clientes que escolhem o modelo A compram a garantia estendida, 15% dos clientes que escolhem o modelo B compram a garantia estendida e 20% dos clientes que escolhem o modelo C compram a garantia estendida. Se um cliente é selecionado aleatoriamente, qual é a probabilidade de ele comprar a garantia estendida?**\n",
        "\n",
        "8. Plus: **Qual a diferença entre probabilidade e verossimilhança (likelihood)?**\n",
        "\n",
        "9. **Imagine que Jeremy participou de um exame. O teste está tendo uma pontuação média de 160 e um desvio padrão de 15. Se o escore z de Jeremy for 1,20, qual seria sua pontuação no teste? Escreva o racional do cálculo**"
      ],
      "metadata": {
        "id": "Pw_TCjK91uvM"
      }
    },
    {
      "cell_type": "code",
      "source": [
        "#imports\n",
        "from scipy.stats import binom, norm\n",
        "import math\n",
        "import pandas as pd\n",
        "import seaborn as sns\n",
        "import numpy as np"
      ],
      "metadata": {
        "id": "8oSjlygO5oAQ"
      },
      "execution_count": 5,
      "outputs": []
    },
    {
      "cell_type": "code",
      "source": [
        "#Questão 1\n",
        "n=6\n",
        "s_par = 3\n",
        "s_impar = 3\n",
        "prob = s_par/n\n",
        "prob*prob"
      ],
      "metadata": {
        "colab": {
          "base_uri": "https://localhost:8080/"
        },
        "id": "frs1XpSJ2T3p",
        "outputId": "6fbd9a2e-73b1-4d8b-9b86-987c85eb288d"
      },
      "execution_count": 6,
      "outputs": [
        {
          "output_type": "execute_result",
          "data": {
            "text/plain": [
              "0.25"
            ]
          },
          "metadata": {},
          "execution_count": 6
        }
      ]
    },
    {
      "cell_type": "markdown",
      "source": [
        "**Questão 2**\n",
        "Temos que a 1º até a 3º tentativa, temos uma probabilidade de 4/6 e na quarta 2/6."
      ],
      "metadata": {
        "id": "MFlYWLwa6Dw_"
      }
    },
    {
      "cell_type": "code",
      "source": [
        "prob =(4/6)*(4/6)*(4/6)*(2/6)\n",
        "prob"
      ],
      "metadata": {
        "colab": {
          "base_uri": "https://localhost:8080/"
        },
        "id": "6XSCIhQ721Nj",
        "outputId": "6515ba40-f6a4-4e64-9f2c-4c75aec63fb3"
      },
      "execution_count": 8,
      "outputs": [
        {
          "output_type": "execute_result",
          "data": {
            "text/plain": [
              "0.09876543209876543"
            ]
          },
          "metadata": {},
          "execution_count": 8
        }
      ]
    },
    {
      "cell_type": "code",
      "source": [
        "#Questão 3\n",
        "p_m = 0.6 - 0.3\n",
        "p_c = 0.4 - 0.3\n",
        "p_total = p_m+p_c\n",
        "p_total"
      ],
      "metadata": {
        "colab": {
          "base_uri": "https://localhost:8080/"
        },
        "id": "uIV54Qq86oFq",
        "outputId": "b0bd559a-606c-448a-a09e-9ffcf7cccc3a"
      },
      "execution_count": 11,
      "outputs": [
        {
          "output_type": "execute_result",
          "data": {
            "text/plain": [
              "0.4"
            ]
          },
          "metadata": {},
          "execution_count": 11
        }
      ]
    },
    {
      "cell_type": "code",
      "source": [
        "#Questão 4\n",
        "prob = (13/52)*(13/52)\n",
        "prob"
      ],
      "metadata": {
        "colab": {
          "base_uri": "https://localhost:8080/"
        },
        "id": "mS1EvCR48klg",
        "outputId": "7aa34496-297d-4cb4-8137-dcde67da5dee"
      },
      "execution_count": 12,
      "outputs": [
        {
          "output_type": "execute_result",
          "data": {
            "text/plain": [
              "0.0625"
            ]
          },
          "metadata": {},
          "execution_count": 12
        }
      ]
    },
    {
      "cell_type": "code",
      "source": [
        "#Questão 5\n",
        "p_def_a = 0.05\n",
        "p_def_b = 0.1\n",
        "p_a = 0.6\n",
        "p_b = 0.4\n",
        "\n",
        "p_problema = (p_a*p_def_a)+(p_b*p_def_b)\n",
        "p_a_problema = (p_a * p_def_a)/p_problema\n",
        "p_a_problema"
      ],
      "metadata": {
        "colab": {
          "base_uri": "https://localhost:8080/"
        },
        "id": "GiSgXIbs9FBY",
        "outputId": "d2ea5372-fd16-4ddd-847d-3be877c83cd6"
      },
      "execution_count": 17,
      "outputs": [
        {
          "output_type": "execute_result",
          "data": {
            "text/plain": [
              "0.4285714285714285"
            ]
          },
          "metadata": {},
          "execution_count": 17
        }
      ]
    },
    {
      "cell_type": "code",
      "source": [
        "#Questão 6\n",
        "'''\n",
        "s = SAUDAVEL\n",
        "d = doente\n",
        "a = positivo em a\n",
        "b = positivo em b\n",
        "pos  = positivo\n",
        "'''\n",
        "p_d =0.1\n",
        "p_s = 0.9\n",
        "pa_d= 0.95\n",
        "pa_s=0.1\n",
        "pb_d = 0.9\n",
        "pb_s = 0.05\n",
        "\n",
        "pab_d = pa_d * pb_d\n",
        "pab_s = pa_s * pb_s\n"
      ],
      "metadata": {
        "id": "Jpq2lZ8-BWxZ"
      },
      "execution_count": 20,
      "outputs": []
    },
    {
      "cell_type": "code",
      "source": [
        "pos = (pab_d * p_d) + (pab_s * p_s)\n",
        "pos"
      ],
      "metadata": {
        "colab": {
          "base_uri": "https://localhost:8080/"
        },
        "id": "YpZ27hB3FNie",
        "outputId": "e435dc87-1d14-4a7b-dacf-a8542467f048"
      },
      "execution_count": 22,
      "outputs": [
        {
          "output_type": "execute_result",
          "data": {
            "text/plain": [
              "0.09000000000000001"
            ]
          },
          "metadata": {},
          "execution_count": 22
        }
      ]
    },
    {
      "cell_type": "code",
      "source": [
        "pd_ab = (p_d * pab_d)/pos\n",
        "pd_ab"
      ],
      "metadata": {
        "colab": {
          "base_uri": "https://localhost:8080/"
        },
        "id": "_B4s3x9CFyPa",
        "outputId": "627dddac-5520-4c3a-a2a0-530543b52216"
      },
      "execution_count": 23,
      "outputs": [
        {
          "output_type": "execute_result",
          "data": {
            "text/plain": [
              "0.95"
            ]
          },
          "metadata": {},
          "execution_count": 23
        }
      ]
    }
  ]
}