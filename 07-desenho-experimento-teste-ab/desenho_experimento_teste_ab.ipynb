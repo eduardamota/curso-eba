{
  "nbformat": 4,
  "nbformat_minor": 0,
  "metadata": {
    "colab": {
      "provenance": []
    },
    "kernelspec": {
      "name": "python3",
      "display_name": "Python 3"
    },
    "language_info": {
      "name": "python"
    }
  },
  "cells": [
    {
      "cell_type": "code",
      "execution_count": 1,
      "metadata": {
        "id": "0-jaxDmdKRxA"
      },
      "outputs": [],
      "source": [
        "import pandas as pd"
      ]
    },
    {
      "cell_type": "code",
      "source": [
        "url = 'https://raw.githubusercontent.com/eduardamota/curso-eba/main/07-desenho-experimento-teste-ab/df_teste.csv'"
      ],
      "metadata": {
        "id": "IsXwz52vB7Fo"
      },
      "execution_count": 2,
      "outputs": []
    },
    {
      "cell_type": "code",
      "source": [
        "df_test = pd.read_csv(url)"
      ],
      "metadata": {
        "id": "5o-VRMv0CDWg"
      },
      "execution_count": 3,
      "outputs": []
    },
    {
      "cell_type": "code",
      "source": [
        "df_test.head()"
      ],
      "metadata": {
        "id": "7ghIkhOpCJG_",
        "outputId": "89a7b4a3-ae92-47a3-b510-16e5d5ce26e2",
        "colab": {
          "base_uri": "https://localhost:8080/",
          "height": 206
        }
      },
      "execution_count": 4,
      "outputs": [
        {
          "output_type": "execute_result",
          "data": {
            "text/plain": [
              "   Unnamed: 0  user_id                   timestamp landing_page  converted  \\\n",
              "0      281655   918193  2017-01-03 13:42:27.285433     new_page          1   \n",
              "1        7271   679658  2017-01-20 02:00:54.448676     new_page          1   \n",
              "2      269760   815158  2017-01-16 05:11:33.823264     new_page          1   \n",
              "3      158882   857307  2017-01-22 08:58:50.687626     new_page          1   \n",
              "4      153958   716896  2017-01-15 17:59:03.065352     new_page          1   \n",
              "\n",
              "       group  \n",
              "0  treatment  \n",
              "1  treatment  \n",
              "2  treatment  \n",
              "3  treatment  \n",
              "4  treatment  "
            ],
            "text/html": [
              "\n",
              "  <div id=\"df-87f2d089-08a5-4a1d-b75b-6004df67665b\" class=\"colab-df-container\">\n",
              "    <div>\n",
              "<style scoped>\n",
              "    .dataframe tbody tr th:only-of-type {\n",
              "        vertical-align: middle;\n",
              "    }\n",
              "\n",
              "    .dataframe tbody tr th {\n",
              "        vertical-align: top;\n",
              "    }\n",
              "\n",
              "    .dataframe thead th {\n",
              "        text-align: right;\n",
              "    }\n",
              "</style>\n",
              "<table border=\"1\" class=\"dataframe\">\n",
              "  <thead>\n",
              "    <tr style=\"text-align: right;\">\n",
              "      <th></th>\n",
              "      <th>Unnamed: 0</th>\n",
              "      <th>user_id</th>\n",
              "      <th>timestamp</th>\n",
              "      <th>landing_page</th>\n",
              "      <th>converted</th>\n",
              "      <th>group</th>\n",
              "    </tr>\n",
              "  </thead>\n",
              "  <tbody>\n",
              "    <tr>\n",
              "      <th>0</th>\n",
              "      <td>281655</td>\n",
              "      <td>918193</td>\n",
              "      <td>2017-01-03 13:42:27.285433</td>\n",
              "      <td>new_page</td>\n",
              "      <td>1</td>\n",
              "      <td>treatment</td>\n",
              "    </tr>\n",
              "    <tr>\n",
              "      <th>1</th>\n",
              "      <td>7271</td>\n",
              "      <td>679658</td>\n",
              "      <td>2017-01-20 02:00:54.448676</td>\n",
              "      <td>new_page</td>\n",
              "      <td>1</td>\n",
              "      <td>treatment</td>\n",
              "    </tr>\n",
              "    <tr>\n",
              "      <th>2</th>\n",
              "      <td>269760</td>\n",
              "      <td>815158</td>\n",
              "      <td>2017-01-16 05:11:33.823264</td>\n",
              "      <td>new_page</td>\n",
              "      <td>1</td>\n",
              "      <td>treatment</td>\n",
              "    </tr>\n",
              "    <tr>\n",
              "      <th>3</th>\n",
              "      <td>158882</td>\n",
              "      <td>857307</td>\n",
              "      <td>2017-01-22 08:58:50.687626</td>\n",
              "      <td>new_page</td>\n",
              "      <td>1</td>\n",
              "      <td>treatment</td>\n",
              "    </tr>\n",
              "    <tr>\n",
              "      <th>4</th>\n",
              "      <td>153958</td>\n",
              "      <td>716896</td>\n",
              "      <td>2017-01-15 17:59:03.065352</td>\n",
              "      <td>new_page</td>\n",
              "      <td>1</td>\n",
              "      <td>treatment</td>\n",
              "    </tr>\n",
              "  </tbody>\n",
              "</table>\n",
              "</div>\n",
              "    <div class=\"colab-df-buttons\">\n",
              "\n",
              "  <div class=\"colab-df-container\">\n",
              "    <button class=\"colab-df-convert\" onclick=\"convertToInteractive('df-87f2d089-08a5-4a1d-b75b-6004df67665b')\"\n",
              "            title=\"Convert this dataframe to an interactive table.\"\n",
              "            style=\"display:none;\">\n",
              "\n",
              "  <svg xmlns=\"http://www.w3.org/2000/svg\" height=\"24px\" viewBox=\"0 -960 960 960\">\n",
              "    <path d=\"M120-120v-720h720v720H120Zm60-500h600v-160H180v160Zm220 220h160v-160H400v160Zm0 220h160v-160H400v160ZM180-400h160v-160H180v160Zm440 0h160v-160H620v160ZM180-180h160v-160H180v160Zm440 0h160v-160H620v160Z\"/>\n",
              "  </svg>\n",
              "    </button>\n",
              "\n",
              "  <style>\n",
              "    .colab-df-container {\n",
              "      display:flex;\n",
              "      gap: 12px;\n",
              "    }\n",
              "\n",
              "    .colab-df-convert {\n",
              "      background-color: #E8F0FE;\n",
              "      border: none;\n",
              "      border-radius: 50%;\n",
              "      cursor: pointer;\n",
              "      display: none;\n",
              "      fill: #1967D2;\n",
              "      height: 32px;\n",
              "      padding: 0 0 0 0;\n",
              "      width: 32px;\n",
              "    }\n",
              "\n",
              "    .colab-df-convert:hover {\n",
              "      background-color: #E2EBFA;\n",
              "      box-shadow: 0px 1px 2px rgba(60, 64, 67, 0.3), 0px 1px 3px 1px rgba(60, 64, 67, 0.15);\n",
              "      fill: #174EA6;\n",
              "    }\n",
              "\n",
              "    .colab-df-buttons div {\n",
              "      margin-bottom: 4px;\n",
              "    }\n",
              "\n",
              "    [theme=dark] .colab-df-convert {\n",
              "      background-color: #3B4455;\n",
              "      fill: #D2E3FC;\n",
              "    }\n",
              "\n",
              "    [theme=dark] .colab-df-convert:hover {\n",
              "      background-color: #434B5C;\n",
              "      box-shadow: 0px 1px 3px 1px rgba(0, 0, 0, 0.15);\n",
              "      filter: drop-shadow(0px 1px 2px rgba(0, 0, 0, 0.3));\n",
              "      fill: #FFFFFF;\n",
              "    }\n",
              "  </style>\n",
              "\n",
              "    <script>\n",
              "      const buttonEl =\n",
              "        document.querySelector('#df-87f2d089-08a5-4a1d-b75b-6004df67665b button.colab-df-convert');\n",
              "      buttonEl.style.display =\n",
              "        google.colab.kernel.accessAllowed ? 'block' : 'none';\n",
              "\n",
              "      async function convertToInteractive(key) {\n",
              "        const element = document.querySelector('#df-87f2d089-08a5-4a1d-b75b-6004df67665b');\n",
              "        const dataTable =\n",
              "          await google.colab.kernel.invokeFunction('convertToInteractive',\n",
              "                                                    [key], {});\n",
              "        if (!dataTable) return;\n",
              "\n",
              "        const docLinkHtml = 'Like what you see? Visit the ' +\n",
              "          '<a target=\"_blank\" href=https://colab.research.google.com/notebooks/data_table.ipynb>data table notebook</a>'\n",
              "          + ' to learn more about interactive tables.';\n",
              "        element.innerHTML = '';\n",
              "        dataTable['output_type'] = 'display_data';\n",
              "        await google.colab.output.renderOutput(dataTable, element);\n",
              "        const docLink = document.createElement('div');\n",
              "        docLink.innerHTML = docLinkHtml;\n",
              "        element.appendChild(docLink);\n",
              "      }\n",
              "    </script>\n",
              "  </div>\n",
              "\n",
              "\n",
              "<div id=\"df-a89d7158-3e6c-4380-bfa5-cc59234d0267\">\n",
              "  <button class=\"colab-df-quickchart\" onclick=\"quickchart('df-a89d7158-3e6c-4380-bfa5-cc59234d0267')\"\n",
              "            title=\"Suggest charts\"\n",
              "            style=\"display:none;\">\n",
              "\n",
              "<svg xmlns=\"http://www.w3.org/2000/svg\" height=\"24px\"viewBox=\"0 0 24 24\"\n",
              "     width=\"24px\">\n",
              "    <g>\n",
              "        <path d=\"M19 3H5c-1.1 0-2 .9-2 2v14c0 1.1.9 2 2 2h14c1.1 0 2-.9 2-2V5c0-1.1-.9-2-2-2zM9 17H7v-7h2v7zm4 0h-2V7h2v10zm4 0h-2v-4h2v4z\"/>\n",
              "    </g>\n",
              "</svg>\n",
              "  </button>\n",
              "\n",
              "<style>\n",
              "  .colab-df-quickchart {\n",
              "      --bg-color: #E8F0FE;\n",
              "      --fill-color: #1967D2;\n",
              "      --hover-bg-color: #E2EBFA;\n",
              "      --hover-fill-color: #174EA6;\n",
              "      --disabled-fill-color: #AAA;\n",
              "      --disabled-bg-color: #DDD;\n",
              "  }\n",
              "\n",
              "  [theme=dark] .colab-df-quickchart {\n",
              "      --bg-color: #3B4455;\n",
              "      --fill-color: #D2E3FC;\n",
              "      --hover-bg-color: #434B5C;\n",
              "      --hover-fill-color: #FFFFFF;\n",
              "      --disabled-bg-color: #3B4455;\n",
              "      --disabled-fill-color: #666;\n",
              "  }\n",
              "\n",
              "  .colab-df-quickchart {\n",
              "    background-color: var(--bg-color);\n",
              "    border: none;\n",
              "    border-radius: 50%;\n",
              "    cursor: pointer;\n",
              "    display: none;\n",
              "    fill: var(--fill-color);\n",
              "    height: 32px;\n",
              "    padding: 0;\n",
              "    width: 32px;\n",
              "  }\n",
              "\n",
              "  .colab-df-quickchart:hover {\n",
              "    background-color: var(--hover-bg-color);\n",
              "    box-shadow: 0 1px 2px rgba(60, 64, 67, 0.3), 0 1px 3px 1px rgba(60, 64, 67, 0.15);\n",
              "    fill: var(--button-hover-fill-color);\n",
              "  }\n",
              "\n",
              "  .colab-df-quickchart-complete:disabled,\n",
              "  .colab-df-quickchart-complete:disabled:hover {\n",
              "    background-color: var(--disabled-bg-color);\n",
              "    fill: var(--disabled-fill-color);\n",
              "    box-shadow: none;\n",
              "  }\n",
              "\n",
              "  .colab-df-spinner {\n",
              "    border: 2px solid var(--fill-color);\n",
              "    border-color: transparent;\n",
              "    border-bottom-color: var(--fill-color);\n",
              "    animation:\n",
              "      spin 1s steps(1) infinite;\n",
              "  }\n",
              "\n",
              "  @keyframes spin {\n",
              "    0% {\n",
              "      border-color: transparent;\n",
              "      border-bottom-color: var(--fill-color);\n",
              "      border-left-color: var(--fill-color);\n",
              "    }\n",
              "    20% {\n",
              "      border-color: transparent;\n",
              "      border-left-color: var(--fill-color);\n",
              "      border-top-color: var(--fill-color);\n",
              "    }\n",
              "    30% {\n",
              "      border-color: transparent;\n",
              "      border-left-color: var(--fill-color);\n",
              "      border-top-color: var(--fill-color);\n",
              "      border-right-color: var(--fill-color);\n",
              "    }\n",
              "    40% {\n",
              "      border-color: transparent;\n",
              "      border-right-color: var(--fill-color);\n",
              "      border-top-color: var(--fill-color);\n",
              "    }\n",
              "    60% {\n",
              "      border-color: transparent;\n",
              "      border-right-color: var(--fill-color);\n",
              "    }\n",
              "    80% {\n",
              "      border-color: transparent;\n",
              "      border-right-color: var(--fill-color);\n",
              "      border-bottom-color: var(--fill-color);\n",
              "    }\n",
              "    90% {\n",
              "      border-color: transparent;\n",
              "      border-bottom-color: var(--fill-color);\n",
              "    }\n",
              "  }\n",
              "</style>\n",
              "\n",
              "  <script>\n",
              "    async function quickchart(key) {\n",
              "      const quickchartButtonEl =\n",
              "        document.querySelector('#' + key + ' button');\n",
              "      quickchartButtonEl.disabled = true;  // To prevent multiple clicks.\n",
              "      quickchartButtonEl.classList.add('colab-df-spinner');\n",
              "      try {\n",
              "        const charts = await google.colab.kernel.invokeFunction(\n",
              "            'suggestCharts', [key], {});\n",
              "      } catch (error) {\n",
              "        console.error('Error during call to suggestCharts:', error);\n",
              "      }\n",
              "      quickchartButtonEl.classList.remove('colab-df-spinner');\n",
              "      quickchartButtonEl.classList.add('colab-df-quickchart-complete');\n",
              "    }\n",
              "    (() => {\n",
              "      let quickchartButtonEl =\n",
              "        document.querySelector('#df-a89d7158-3e6c-4380-bfa5-cc59234d0267 button');\n",
              "      quickchartButtonEl.style.display =\n",
              "        google.colab.kernel.accessAllowed ? 'block' : 'none';\n",
              "    })();\n",
              "  </script>\n",
              "</div>\n",
              "\n",
              "    </div>\n",
              "  </div>\n"
            ],
            "application/vnd.google.colaboratory.intrinsic+json": {
              "type": "dataframe",
              "variable_name": "df_test",
              "summary": "{\n  \"name\": \"df_test\",\n  \"rows\": 5636,\n  \"fields\": [\n    {\n      \"column\": \"Unnamed: 0\",\n      \"properties\": {\n        \"dtype\": \"number\",\n        \"std\": 95263,\n        \"min\": 0,\n        \"max\": 294339,\n        \"num_unique_values\": 5611,\n        \"samples\": [\n          2358,\n          1393,\n          47218\n        ],\n        \"semantic_type\": \"\",\n        \"description\": \"\"\n      }\n    },\n    {\n      \"column\": \"user_id\",\n      \"properties\": {\n        \"dtype\": \"number\",\n        \"std\": 91351,\n        \"min\": 630006,\n        \"max\": 945982,\n        \"num_unique_values\": 5633,\n        \"samples\": [\n          884571,\n          744246,\n          714872\n        ],\n        \"semantic_type\": \"\",\n        \"description\": \"\"\n      }\n    },\n    {\n      \"column\": \"timestamp\",\n      \"properties\": {\n        \"dtype\": \"object\",\n        \"num_unique_values\": 5636,\n        \"samples\": [\n          \"2017-01-07 10:13:58.864329\",\n          \"2017-01-05 12:12:28.459272\",\n          \"2017-01-08 20:10:14.086137\"\n        ],\n        \"semantic_type\": \"\",\n        \"description\": \"\"\n      }\n    },\n    {\n      \"column\": \"landing_page\",\n      \"properties\": {\n        \"dtype\": \"category\",\n        \"num_unique_values\": 2,\n        \"samples\": [\n          \"old_page\",\n          \"new_page\"\n        ],\n        \"semantic_type\": \"\",\n        \"description\": \"\"\n      }\n    },\n    {\n      \"column\": \"converted\",\n      \"properties\": {\n        \"dtype\": \"number\",\n        \"std\": 0,\n        \"min\": 0,\n        \"max\": 1,\n        \"num_unique_values\": 2,\n        \"samples\": [\n          0,\n          1\n        ],\n        \"semantic_type\": \"\",\n        \"description\": \"\"\n      }\n    },\n    {\n      \"column\": \"group\",\n      \"properties\": {\n        \"dtype\": \"category\",\n        \"num_unique_values\": 2,\n        \"samples\": [\n          \"control\",\n          \"treatment\"\n        ],\n        \"semantic_type\": \"\",\n        \"description\": \"\"\n      }\n    }\n  ]\n}"
            }
          },
          "metadata": {},
          "execution_count": 4
        }
      ]
    },
    {
      "cell_type": "code",
      "source": [
        "df_anterior = df_test"
      ],
      "metadata": {
        "id": "Nun9wfdkfzD8"
      },
      "execution_count": 5,
      "outputs": []
    },
    {
      "cell_type": "code",
      "source": [
        "#coversao atual\n",
        "conversao_atual = df_anterior[df_anterior.converted==1].user_id.count()/df_anterior.user_id.count()"
      ],
      "metadata": {
        "id": "6xI8nVMHCKO4"
      },
      "execution_count": 6,
      "outputs": []
    },
    {
      "cell_type": "code",
      "source": [
        "round(conversao_atual,3)"
      ],
      "metadata": {
        "colab": {
          "base_uri": "https://localhost:8080/"
        },
        "id": "IZB8Q_izgCVu",
        "outputId": "26686f26-53b1-439d-b0b4-8713b2e67995"
      },
      "execution_count": 7,
      "outputs": [
        {
          "output_type": "execute_result",
          "data": {
            "text/plain": [
              "0.157"
            ]
          },
          "metadata": {},
          "execution_count": 7
        }
      ]
    },
    {
      "cell_type": "code",
      "source": [
        "meta = round(conversao_atual * 1.21,3)\n",
        "meta"
      ],
      "metadata": {
        "colab": {
          "base_uri": "https://localhost:8080/"
        },
        "id": "cS7GNeESgOdU",
        "outputId": "d7b21e3a-fe9b-449a-f19d-fe804e8ffb8e"
      },
      "execution_count": 8,
      "outputs": [
        {
          "output_type": "execute_result",
          "data": {
            "text/plain": [
              "0.19"
            ]
          },
          "metadata": {},
          "execution_count": 8
        }
      ]
    },
    {
      "cell_type": "code",
      "source": [
        "#Pelo gpower a amostra minima é de 5422 nos dois grupos\n",
        "\n",
        "#vamos testar se houve diferença entre os dois grupos\n",
        "\n",
        "grupo_tratamento = df_test[df_test.group=='treatment']\n",
        "grupo_controle = df_test[df_test.group=='control']\n",
        "\n",
        "\n",
        "conversao_tratamento = grupo_tratamento[grupo_tratamento.converted==1].user_id.count()/grupo_tratamento.user_id.count()\n",
        "conversao_controle = grupo_controle[grupo_controle.converted==1].user_id.count()/grupo_controle.user_id.count()\n",
        "\n",
        "print(round(conversao_tratamento,3))\n",
        "print(round(conversao_controle,3))\n"
      ],
      "metadata": {
        "colab": {
          "base_uri": "https://localhost:8080/"
        },
        "id": "ti5UgYJXgmmg",
        "outputId": "7de02707-09c2-462b-e119-960930b664eb"
      },
      "execution_count": 9,
      "outputs": [
        {
          "output_type": "stream",
          "name": "stdout",
          "text": [
            "0.19\n",
            "0.125\n"
          ]
        }
      ]
    },
    {
      "cell_type": "markdown",
      "source": [
        "Numericamente conseguimos perceber uma diferença, agora precisamos verificar se a diferença foi estatisticamente significativa."
      ],
      "metadata": {
        "id": "3JaBJy6uiTAv"
      }
    },
    {
      "cell_type": "code",
      "source": [
        "from statsmodels.stats.proportion import proportions_ztest, proportion_confint\n",
        "\n",
        "control_results = grupo_controle.converted\n",
        "treatment_results = grupo_tratamento.converted\n",
        "\n",
        "sucess = [control_results.sum(), treatment_results.sum()]\n",
        "\n",
        "n_treat = grupo_tratamento.user_id.count()\n",
        "n_con = grupo_controle.user_id.count()\n",
        "nobs = [n_con, n_treat]\n",
        "\n",
        "z_stat, pvalue = proportions_ztest(sucess, nobs=nobs)\n",
        "print(z_stat,pvalue)"
      ],
      "metadata": {
        "colab": {
          "base_uri": "https://localhost:8080/"
        },
        "id": "GoVSIAUSiJWu",
        "outputId": "7702a78e-50cb-4f77-88c2-2b3fc49b7c57"
      },
      "execution_count": 10,
      "outputs": [
        {
          "output_type": "stream",
          "name": "stdout",
          "text": [
            "-6.733481162342496 1.6565111652777357e-11\n"
          ]
        }
      ]
    },
    {
      "cell_type": "markdown",
      "source": [
        "## Exercícios\n",
        "\n",
        "1. A equipe de marketing do LinkedIn testou duas versões de campanhas por e-mail, A e B, em São Francisco (SF) e na cidade de Nova York (NYC). Dos 100.000 e-mails enviados, 80% dos e-mails eram da versão A, enquanto o restante era da versão B. Aborde as duas perguntas abaixo para orientar a equipe de marketing.\n",
        "\n",
        "  a) Dado que a taxa de cliques (CTR) do e-mail A foi de 15%, enquanto a do e-mail B foi de 30%, qual versão é mais eficaz? Discorra bastante sobre o assunto\n",
        "\n",
        "\n",
        "- Size: Tamanho das amostras\n",
        "- CTR: Percentual de cliques\n",
        "- Count: Quantidade de cliques\n",
        "\n"
      ],
      "metadata": {
        "id": "h96Sy696kPqC"
      }
    },
    {
      "cell_type": "markdown",
      "source": [
        "![image.png](data:image/png;base64,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)"
      ],
      "metadata": {
        "id": "ipTPzw_4koO5"
      }
    },
    {
      "cell_type": "markdown",
      "source": [
        "Vamos partir da hipótese que os teste foram iguais para tentar identificar se houve ou não diferença entre as amostras."
      ],
      "metadata": {
        "id": "JdRB2gcGll7l"
      }
    },
    {
      "cell_type": "code",
      "source": [
        "nobs = [80000, 20000]\n",
        "clicks = [12000,6000]\n",
        "z_stat, pvalue = proportions_ztest(clicks, nobs=nobs)\n",
        "print(z_stat,pvalue)"
      ],
      "metadata": {
        "id": "TXcrTyYnltcs",
        "colab": {
          "base_uri": "https://localhost:8080/"
        },
        "outputId": "0ecb21c1-9c80-40bb-a491-8465c42512fb"
      },
      "execution_count": 11,
      "outputs": [
        {
          "output_type": "stream",
          "name": "stdout",
          "text": [
            "-49.38647983247947 0.0\n"
          ]
        }
      ]
    },
    {
      "cell_type": "code",
      "source": [
        "a = proportion_confint(clicks[0], nobs=nobs[0], alpha=0.05)\n",
        "b = proportion_confint(clicks[1], nobs=nobs[1], alpha=0.05)\n",
        "print(a,b)"
      ],
      "metadata": {
        "colab": {
          "base_uri": "https://localhost:8080/"
        },
        "id": "HIW-5rwfoJmI",
        "outputId": "16323c60-d0fe-4b7e-f235-7a9da6764508"
      },
      "execution_count": 13,
      "outputs": [
        {
          "output_type": "stream",
          "name": "stdout",
          "text": [
            "(0.14752566675739073, 0.15247433324260926) (0.2936489908189888, 0.30635100918101116)\n"
          ]
        }
      ]
    },
    {
      "cell_type": "markdown",
      "source": [
        "Como o p-valor é 0, rejeitamos a hipótese nula e logo com um nível de 95% de confiança afirmamos que a taxa de clicks é diferente entre as campanhas.\n",
        "\n",
        "\n",
        "Os intervalos de confiança das duas versões não se sobrepõem, logo temos mais uma evidência que são diferentes."
      ],
      "metadata": {
        "id": "aF8QLQmgofn0"
      }
    },
    {
      "cell_type": "markdown",
      "source": [
        "  b) Em SF, a CTR do e-mail A foi de 15%, enquanto a do e-mail B foi de 12,5%. Em NYC, a CTR do e-mail A foi de 15%, enquanto a do e-mail B foi de 41,7%. A tabela resumo abaixo mostra o número de e-mails por variação por cidade. Explique sua avaliação e discorra bastante sobre o assunto\n",
        "\n",
        "\n",
        "![image.png](data:image/png;base64,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)"
      ],
      "metadata": {
        "id": "rsEVE-28pKbv"
      }
    },
    {
      "cell_type": "code",
      "source": [
        "#NYC\n",
        "\n",
        "nobs_nyc = [20000,12000]\n",
        "clicks_nyc = [3000,5000]\n",
        "\n",
        "zstat,p_value = proportions_ztest(clicks_nyc,nobs_nyc)\n",
        "print(zstat,p_value)\n",
        "\n",
        "a_nyc = proportion_confint(clicks_nyc[0],nobs_nyc[0],alpha=0.05)\n",
        "print(f\"intervalo de confiança NYC:{a_nyc}\")\n",
        "\n",
        "b_nyc = proportion_confint(clicks_nyc[1],nobs_nyc[1],alpha=0.05)\n",
        "print(f\"intervalo de confiança NYC:{b_nyc}\")"
      ],
      "metadata": {
        "colab": {
          "base_uri": "https://localhost:8080/"
        },
        "id": "fGQcaqiMoDL0",
        "outputId": "b0f1843f-d6a2-4cce-d561-9861e7ee4840"
      },
      "execution_count": 18,
      "outputs": [
        {
          "output_type": "stream",
          "name": "stdout",
          "text": [
            "-53.33333333333334 0.0\n",
            "intervalo de confiança NYC:(0.14505133351478147, 0.15494866648521852)\n",
            "intervalo de confiança NYC:(0.4078458205819289, 0.42548751275140445)\n"
          ]
        }
      ]
    },
    {
      "cell_type": "markdown",
      "source": [
        "Pelo teste de proporção podemos com rejeitar a hipótese nula de que a conversão é igual nas duas variações, dado o resultado do p-valor. Além disso, pelo intervalo de confiança vemos que não temos sobreposição, sendo mais uma evidência que são diferentes e que B tem um resultado superior."
      ],
      "metadata": {
        "id": "jQMvMhLjr37g"
      }
    },
    {
      "cell_type": "code",
      "source": [
        "#SF\n",
        "\n",
        "nobs_sf = [60000,8000]\n",
        "clicks_sf = [9000,1000]\n",
        "\n",
        "zstat,p_value = proportions_ztest(clicks_sf,nobs_sf)\n",
        "print(zstat,p_value)\n",
        "\n",
        "a_sf = proportion_confint(clicks_sf[0],nobs_sf[0],alpha=0.05)\n",
        "print(f\"intervalo de confiança sf:{a_sf}\")\n",
        "\n",
        "b_sf = proportion_confint(clicks_sf[1],nobs_sf[1],alpha=0.05)\n",
        "print(f\"intervalo de confiança sf:{b_sf}\")"
      ],
      "metadata": {
        "colab": {
          "base_uri": "https://localhost:8080/"
        },
        "id": "8qq44_pqqT3S",
        "outputId": "c35bfed3-9047-40fc-b8ec-a17f4efe02c2"
      },
      "execution_count": 21,
      "outputs": [
        {
          "output_type": "stream",
          "name": "stdout",
          "text": [
            "5.930633506894811 3.017680994773782e-09\n",
            "intervalo de confiança sf:(0.1471428860726294, 0.15285711392737059)\n",
            "intervalo de confiança sf:(0.117752935434662, 0.132247064565338)\n"
          ]
        }
      ]
    }
  ]
}