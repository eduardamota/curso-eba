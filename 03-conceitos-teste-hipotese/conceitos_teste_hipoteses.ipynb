{
  "nbformat": 4,
  "nbformat_minor": 0,
  "metadata": {
    "colab": {
      "provenance": [],
      "authorship_tag": "ABX9TyMBMrhvOuiBewBdksdkVXdg",
      "include_colab_link": true
    },
    "kernelspec": {
      "name": "python3",
      "display_name": "Python 3"
    },
    "language_info": {
      "name": "python"
    }
  },
  "cells": [
    {
      "cell_type": "markdown",
      "metadata": {
        "id": "view-in-github",
        "colab_type": "text"
      },
      "source": [
        "<a href=\"https://colab.research.google.com/github/eduardamota/curso-eba/blob/main/2_conceitos_teste_hipoteses.ipynb\" target=\"_parent\"><img src=\"https://colab.research.google.com/assets/colab-badge.svg\" alt=\"Open In Colab\"/></a>"
      ]
    },
    {
      "cell_type": "markdown",
      "source": [
        "# Amostra x População\n",
        "\n",
        "- Amostra: Grupo específico que vamos coletar os dados\n",
        "  - média > x\n",
        "  - desvio padrão > s\n",
        "  - variância > s2\n",
        "  - proporção > p\n",
        "  - qtd de dados > n\n",
        "- População: Todo o grupo que você deseja tirar conclusões\n",
        "  - média > 𝜇\n",
        "  - desvio padrão > σ\n",
        "  - variância > σ2\n",
        "  - proporção > p\n",
        "  - qtd de dados > N\n",
        "\n",
        "## Tipos de Vieses\n",
        "- Viés Aleatório: Diminui conforme o tamanho amostral aumenta\n",
        "- Viés Sistemático: Não é reduzido com o aumento do tamanho amostral\n",
        "  - Tipos: Vieses de seleção, vieses de informação e vieses de confundimento\n",
        "\n",
        "\n",
        "## Amostragem Probabilística x Não Probabilística\n",
        "\n",
        "### Probabilística/ Aleatória :\n",
        "#### Simples:\n",
        "   Você seleciona uma amostra de forma que todas as amostras da população tem a mesma chance de serem escolhidas.\n",
        "- **Vantagem**: *Fácil de implementar e caracteriza bem a população*\n",
        "- **Desvantagem**: *Categorias raras podem não aparecer*\n",
        "\n",
        "#### Estratificada\n",
        "Para evitar a desvantagem da aleatória simples, podemos dividir a população em grupos e amostrar cada grupo.\n",
        "- **Vantagem**: *Mitiga o problema de amostras raras*\n",
        "- **Desvantagem**: *As vezes é impossível dividir a amostra (não pode ter overlap de grupos)*\n",
        "\n",
        "#### Sistemática\n",
        "Escolhe o indivíduo de forma aleatória entre a população e depois selecionar para cada enésimo indivíduo (ex: escolhi a primeira pessoa, depois dessa primeira vou escolher de 3 em 3).\n",
        "- **Vantagem**: *Fácil de implementar, caracteriza bem a população e dependendo do tempo de aplicação pode mitigar o problema de amostras raras*\n",
        "- **Desvantagem**: *Pode ter problemas para dar continuidade a escolha das amostras*\n",
        "\n",
        "#### Por Conglomerados\n",
        "\n",
        "## Não Probabilística/ Não Aleatório\n",
        "  - Acidental ou conveniência\n",
        "  - Intencional\n",
        "  - Quotas ou Proporcional\n",
        "  - Desproporcional\n",
        "\n",
        "\n",
        "# Teste de Hipótese\n",
        "É uma análise estatística que vai usar dados para comprovar uma afirmação. O teste vai permitir usar uma amostra para tirar conclusões sobre uma população inteira.\n",
        "## Hipótese Nula x Alternativa\n",
        "Sempre que vamos afirmar ou comprovar, precisamos traduzir nossas afirmações em duas hipóteses:\n",
        "  - Hipótese Nula: Contém a igualdade (=, >=, <=)\n",
        "  - Hipótese Alternativa: Contém um desigualdade (>,<,≠)\n",
        "\n",
        "## Distribuição Amostral\n",
        "Um pesquisador está estudando os gastos com combustível para as famílias e quer determinar se o custo mensal mudou desde o ano passado, quando a média era de $260 por mês. A pesquisadora sortei uma amostra de 25 familias e analisa seus custos para este ano.\n",
        "\n",
        "- H0: Média da população = 260\n",
        "- H1: Média da população ≠ 260\n",
        "\n",
        "Vamos pegar esse exemplo e supor que temos \"n\" pesquisadores fazendo a mesma coleta. Cada pesquisador vai obter a média da amostra que foi selecionada, a partir das médias das \"n\" amostras, conseguimos plotar a distribuição.\n",
        "\n",
        "## Testes Bicaudais ou Unicaudais\n",
        "\n",
        "- ≠: Temos teste bicaudal\n",
        "- >: Unicaudal à direita\n",
        "- <: Unicaudal à esquerda\n",
        "\n",
        "## Tipos de Erro\n",
        " | Tipos | Rejeita H0 | Aceita H0 |\n",
        "   |---|---|---|\n",
        " | H0 é verdadeiro (real) | Erro Tipo I (Falso Positivo) | ✅ |\n",
        " | H0 é falso (real) |✅ | Erro Tipo II (Falso Negativo) |\n",
        "\n",
        "\n",
        "## Nível de Significância\n",
        "\n",
        "Nossa certeza é a probabilidade de evitar que aconteça o erro tipo (rejeitar H0, quando na verdade deveríamos aceitar). O complementar da certeza é a probabilidade de cometermos o erro do tipo I, essa probabilidade é chamada de nível de significância.\n",
        "\n",
        "\n",
        "## P-valor\n",
        "O p-valor é a probabilidade de obtermos o dado que medimos na amostra quando consideramos o cenário fictício que H0 é verdadeiro. Se p-valor for muito pequeno, não temos evidências suficientes para aceitar que H0 é verdadeiro e, portanto, rejeitamos a hipótese nula."
      ],
      "metadata": {
        "id": "ODIo850ruYrq"
      }
    }
  ]
}