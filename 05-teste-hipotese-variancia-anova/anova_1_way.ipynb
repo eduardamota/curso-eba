{
  "nbformat": 4,
  "nbformat_minor": 0,
  "metadata": {
    "colab": {
      "provenance": []
    },
    "kernelspec": {
      "name": "python3",
      "display_name": "Python 3"
    },
    "language_info": {
      "name": "python"
    }
  },
  "cells": [
    {
      "cell_type": "code",
      "execution_count": 1,
      "metadata": {
        "colab": {
          "base_uri": "https://localhost:8080/"
        },
        "id": "WqrU9rkKrvwN",
        "outputId": "3d465188-597b-4d01-d02d-0eba5a42d330"
      },
      "outputs": [
        {
          "output_type": "execute_result",
          "data": {
            "text/plain": [
              "F_onewayResult(statistic=4.625000000000002, pvalue=0.016336459839780215)"
            ]
          },
          "metadata": {},
          "execution_count": 1
        }
      ],
      "source": [
        "from scipy.stats import f_oneway\n",
        "\n",
        "perfomance1 = [89,89,88,78,79]\n",
        "perfomance2 = [93,92,94,89,88]\n",
        "perfomance3 = [89,88,89,93,90]\n",
        "perfomance4 = [81,78,81,92,82]\n",
        "\n",
        "f_oneway(perfomance1, perfomance2, perfomance3, perfomance4)"
      ]
    },
    {
      "cell_type": "code",
      "source": [
        "!pip install pingouin\n",
        "import pingouin as pg"
      ],
      "metadata": {
        "colab": {
          "base_uri": "https://localhost:8080/"
        },
        "id": "eY9wNSH7tNa9",
        "outputId": "423e5321-43e5-4a16-d53d-c52253df849d"
      },
      "execution_count": 2,
      "outputs": [
        {
          "output_type": "stream",
          "name": "stdout",
          "text": [
            "Collecting pingouin\n",
            "  Downloading pingouin-0.5.4-py2.py3-none-any.whl (198 kB)\n",
            "\u001b[?25l     \u001b[90m━━━━━━━━━━━━━━━━━━━━━━━━━━━━━━━━━━━━━━━━\u001b[0m \u001b[32m0.0/198.9 kB\u001b[0m \u001b[31m?\u001b[0m eta \u001b[36m-:--:--\u001b[0m\r\u001b[2K     \u001b[91m━━━━━━━━━━━━━━━━━━━━━━━━\u001b[0m\u001b[91m╸\u001b[0m\u001b[90m━━━━━━━━━━━━━━━\u001b[0m \u001b[32m122.9/198.9 kB\u001b[0m \u001b[31m3.5 MB/s\u001b[0m eta \u001b[36m0:00:01\u001b[0m\r\u001b[2K     \u001b[90m━━━━━━━━━━━━━━━━━━━━━━━━━━━━━━━━━━━━━━━━\u001b[0m \u001b[32m198.9/198.9 kB\u001b[0m \u001b[31m3.9 MB/s\u001b[0m eta \u001b[36m0:00:00\u001b[0m\n",
            "\u001b[?25hRequirement already satisfied: numpy in /usr/local/lib/python3.10/dist-packages (from pingouin) (1.25.2)\n",
            "Requirement already satisfied: scipy in /usr/local/lib/python3.10/dist-packages (from pingouin) (1.11.4)\n",
            "Requirement already satisfied: pandas>=1.5 in /usr/local/lib/python3.10/dist-packages (from pingouin) (2.0.3)\n",
            "Requirement already satisfied: matplotlib in /usr/local/lib/python3.10/dist-packages (from pingouin) (3.7.1)\n",
            "Requirement already satisfied: seaborn in /usr/local/lib/python3.10/dist-packages (from pingouin) (0.13.1)\n",
            "Requirement already satisfied: statsmodels in /usr/local/lib/python3.10/dist-packages (from pingouin) (0.14.2)\n",
            "Requirement already satisfied: scikit-learn in /usr/local/lib/python3.10/dist-packages (from pingouin) (1.2.2)\n",
            "Collecting pandas-flavor (from pingouin)\n",
            "  Downloading pandas_flavor-0.6.0-py3-none-any.whl (7.2 kB)\n",
            "Requirement already satisfied: tabulate in /usr/local/lib/python3.10/dist-packages (from pingouin) (0.9.0)\n",
            "Requirement already satisfied: python-dateutil>=2.8.2 in /usr/local/lib/python3.10/dist-packages (from pandas>=1.5->pingouin) (2.8.2)\n",
            "Requirement already satisfied: pytz>=2020.1 in /usr/local/lib/python3.10/dist-packages (from pandas>=1.5->pingouin) (2023.4)\n",
            "Requirement already satisfied: tzdata>=2022.1 in /usr/local/lib/python3.10/dist-packages (from pandas>=1.5->pingouin) (2024.1)\n",
            "Requirement already satisfied: contourpy>=1.0.1 in /usr/local/lib/python3.10/dist-packages (from matplotlib->pingouin) (1.2.1)\n",
            "Requirement already satisfied: cycler>=0.10 in /usr/local/lib/python3.10/dist-packages (from matplotlib->pingouin) (0.12.1)\n",
            "Requirement already satisfied: fonttools>=4.22.0 in /usr/local/lib/python3.10/dist-packages (from matplotlib->pingouin) (4.53.1)\n",
            "Requirement already satisfied: kiwisolver>=1.0.1 in /usr/local/lib/python3.10/dist-packages (from matplotlib->pingouin) (1.4.5)\n",
            "Requirement already satisfied: packaging>=20.0 in /usr/local/lib/python3.10/dist-packages (from matplotlib->pingouin) (24.1)\n",
            "Requirement already satisfied: pillow>=6.2.0 in /usr/local/lib/python3.10/dist-packages (from matplotlib->pingouin) (9.4.0)\n",
            "Requirement already satisfied: pyparsing>=2.3.1 in /usr/local/lib/python3.10/dist-packages (from matplotlib->pingouin) (3.1.2)\n",
            "Requirement already satisfied: xarray in /usr/local/lib/python3.10/dist-packages (from pandas-flavor->pingouin) (2023.7.0)\n",
            "Requirement already satisfied: joblib>=1.1.1 in /usr/local/lib/python3.10/dist-packages (from scikit-learn->pingouin) (1.4.2)\n",
            "Requirement already satisfied: threadpoolctl>=2.0.0 in /usr/local/lib/python3.10/dist-packages (from scikit-learn->pingouin) (3.5.0)\n",
            "Requirement already satisfied: patsy>=0.5.6 in /usr/local/lib/python3.10/dist-packages (from statsmodels->pingouin) (0.5.6)\n",
            "Requirement already satisfied: six in /usr/local/lib/python3.10/dist-packages (from patsy>=0.5.6->statsmodels->pingouin) (1.16.0)\n",
            "Installing collected packages: pandas-flavor, pingouin\n",
            "Successfully installed pandas-flavor-0.6.0 pingouin-0.5.4\n"
          ]
        }
      ]
    },
    {
      "cell_type": "code",
      "source": [
        "#pg.welch_anova(dv='SalePrice',between='MSZoning', data=df)"
      ],
      "metadata": {
        "id": "Kx4ufAWEtCki"
      },
      "execution_count": null,
      "outputs": []
    },
    {
      "cell_type": "code",
      "source": [
        "from statsmodels.stats.multicomp import pairwise_tukeyhsd\n",
        "\n",
        "#tukey = pairwise_tukeyhsd(endog=df['SalePrice'], groups=df['MSZoning'], alpha=0.05)\n",
        "#tukey.summary()"
      ],
      "metadata": {
        "id": "FAPMiIcqvm74"
      },
      "execution_count": 3,
      "outputs": []
    },
    {
      "cell_type": "code",
      "source": [
        "import pandas as pd\n",
        "url = 'https://raw.githubusercontent.com/eduardamota/curso-eba/main/05-teste-hipotese-variancia-anova/datasets/house_price.csv'\n",
        "df = pd.read_csv(url,index_col=0)\n",
        "df"
      ],
      "metadata": {
        "colab": {
          "base_uri": "https://localhost:8080/",
          "height": 443
        },
        "id": "epf7Qm5uy4ry",
        "outputId": "1f5dca9a-dfd6-4753-c9d3-af51fefcbbf2"
      },
      "execution_count": 6,
      "outputs": [
        {
          "output_type": "execute_result",
          "data": {
            "text/plain": [
              "      SalePrice  OverallQual  OverallCond  BedroomAbvGr  TotRmsAbvGrd  \\\n",
              "0        208500            7            5             3             8   \n",
              "1        181500            6            8             3             6   \n",
              "2        223500            7            5             3             6   \n",
              "3        140000            7            5             3             7   \n",
              "4        250000            8            5             4             9   \n",
              "...         ...          ...          ...           ...           ...   \n",
              "1455     175000            6            5             3             7   \n",
              "1456     210000            6            6             3             7   \n",
              "1457     266500            7            9             4             9   \n",
              "1458     142125            5            6             2             5   \n",
              "1459     147500            5            6             3             6   \n",
              "\n",
              "      GrLivArea  TotalBsmtSF  YearBuilt MSZoning Utilities BldgType  \n",
              "0          1710          856       2003       RL    AllPub     1Fam  \n",
              "1          1262         1262       1976       RL    AllPub     1Fam  \n",
              "2          1786          920       2001       RL    AllPub     1Fam  \n",
              "3          1717          756       1915       RL    AllPub     1Fam  \n",
              "4          2198         1145       2000       RL    AllPub     1Fam  \n",
              "...         ...          ...        ...      ...       ...      ...  \n",
              "1455       1647          953       1999       RL    AllPub     1Fam  \n",
              "1456       2073         1542       1978       RL    AllPub     1Fam  \n",
              "1457       2340         1152       1941       RL    AllPub     1Fam  \n",
              "1458       1078         1078       1950       RL    AllPub     1Fam  \n",
              "1459       1256         1256       1965       RL    AllPub     1Fam  \n",
              "\n",
              "[1460 rows x 11 columns]"
            ],
            "text/html": [
              "\n",
              "  <div id=\"df-d35efd26-76ca-4cb7-93fa-f391c5b20cbe\" class=\"colab-df-container\">\n",
              "    <div>\n",
              "<style scoped>\n",
              "    .dataframe tbody tr th:only-of-type {\n",
              "        vertical-align: middle;\n",
              "    }\n",
              "\n",
              "    .dataframe tbody tr th {\n",
              "        vertical-align: top;\n",
              "    }\n",
              "\n",
              "    .dataframe thead th {\n",
              "        text-align: right;\n",
              "    }\n",
              "</style>\n",
              "<table border=\"1\" class=\"dataframe\">\n",
              "  <thead>\n",
              "    <tr style=\"text-align: right;\">\n",
              "      <th></th>\n",
              "      <th>SalePrice</th>\n",
              "      <th>OverallQual</th>\n",
              "      <th>OverallCond</th>\n",
              "      <th>BedroomAbvGr</th>\n",
              "      <th>TotRmsAbvGrd</th>\n",
              "      <th>GrLivArea</th>\n",
              "      <th>TotalBsmtSF</th>\n",
              "      <th>YearBuilt</th>\n",
              "      <th>MSZoning</th>\n",
              "      <th>Utilities</th>\n",
              "      <th>BldgType</th>\n",
              "    </tr>\n",
              "  </thead>\n",
              "  <tbody>\n",
              "    <tr>\n",
              "      <th>0</th>\n",
              "      <td>208500</td>\n",
              "      <td>7</td>\n",
              "      <td>5</td>\n",
              "      <td>3</td>\n",
              "      <td>8</td>\n",
              "      <td>1710</td>\n",
              "      <td>856</td>\n",
              "      <td>2003</td>\n",
              "      <td>RL</td>\n",
              "      <td>AllPub</td>\n",
              "      <td>1Fam</td>\n",
              "    </tr>\n",
              "    <tr>\n",
              "      <th>1</th>\n",
              "      <td>181500</td>\n",
              "      <td>6</td>\n",
              "      <td>8</td>\n",
              "      <td>3</td>\n",
              "      <td>6</td>\n",
              "      <td>1262</td>\n",
              "      <td>1262</td>\n",
              "      <td>1976</td>\n",
              "      <td>RL</td>\n",
              "      <td>AllPub</td>\n",
              "      <td>1Fam</td>\n",
              "    </tr>\n",
              "    <tr>\n",
              "      <th>2</th>\n",
              "      <td>223500</td>\n",
              "      <td>7</td>\n",
              "      <td>5</td>\n",
              "      <td>3</td>\n",
              "      <td>6</td>\n",
              "      <td>1786</td>\n",
              "      <td>920</td>\n",
              "      <td>2001</td>\n",
              "      <td>RL</td>\n",
              "      <td>AllPub</td>\n",
              "      <td>1Fam</td>\n",
              "    </tr>\n",
              "    <tr>\n",
              "      <th>3</th>\n",
              "      <td>140000</td>\n",
              "      <td>7</td>\n",
              "      <td>5</td>\n",
              "      <td>3</td>\n",
              "      <td>7</td>\n",
              "      <td>1717</td>\n",
              "      <td>756</td>\n",
              "      <td>1915</td>\n",
              "      <td>RL</td>\n",
              "      <td>AllPub</td>\n",
              "      <td>1Fam</td>\n",
              "    </tr>\n",
              "    <tr>\n",
              "      <th>4</th>\n",
              "      <td>250000</td>\n",
              "      <td>8</td>\n",
              "      <td>5</td>\n",
              "      <td>4</td>\n",
              "      <td>9</td>\n",
              "      <td>2198</td>\n",
              "      <td>1145</td>\n",
              "      <td>2000</td>\n",
              "      <td>RL</td>\n",
              "      <td>AllPub</td>\n",
              "      <td>1Fam</td>\n",
              "    </tr>\n",
              "    <tr>\n",
              "      <th>...</th>\n",
              "      <td>...</td>\n",
              "      <td>...</td>\n",
              "      <td>...</td>\n",
              "      <td>...</td>\n",
              "      <td>...</td>\n",
              "      <td>...</td>\n",
              "      <td>...</td>\n",
              "      <td>...</td>\n",
              "      <td>...</td>\n",
              "      <td>...</td>\n",
              "      <td>...</td>\n",
              "    </tr>\n",
              "    <tr>\n",
              "      <th>1455</th>\n",
              "      <td>175000</td>\n",
              "      <td>6</td>\n",
              "      <td>5</td>\n",
              "      <td>3</td>\n",
              "      <td>7</td>\n",
              "      <td>1647</td>\n",
              "      <td>953</td>\n",
              "      <td>1999</td>\n",
              "      <td>RL</td>\n",
              "      <td>AllPub</td>\n",
              "      <td>1Fam</td>\n",
              "    </tr>\n",
              "    <tr>\n",
              "      <th>1456</th>\n",
              "      <td>210000</td>\n",
              "      <td>6</td>\n",
              "      <td>6</td>\n",
              "      <td>3</td>\n",
              "      <td>7</td>\n",
              "      <td>2073</td>\n",
              "      <td>1542</td>\n",
              "      <td>1978</td>\n",
              "      <td>RL</td>\n",
              "      <td>AllPub</td>\n",
              "      <td>1Fam</td>\n",
              "    </tr>\n",
              "    <tr>\n",
              "      <th>1457</th>\n",
              "      <td>266500</td>\n",
              "      <td>7</td>\n",
              "      <td>9</td>\n",
              "      <td>4</td>\n",
              "      <td>9</td>\n",
              "      <td>2340</td>\n",
              "      <td>1152</td>\n",
              "      <td>1941</td>\n",
              "      <td>RL</td>\n",
              "      <td>AllPub</td>\n",
              "      <td>1Fam</td>\n",
              "    </tr>\n",
              "    <tr>\n",
              "      <th>1458</th>\n",
              "      <td>142125</td>\n",
              "      <td>5</td>\n",
              "      <td>6</td>\n",
              "      <td>2</td>\n",
              "      <td>5</td>\n",
              "      <td>1078</td>\n",
              "      <td>1078</td>\n",
              "      <td>1950</td>\n",
              "      <td>RL</td>\n",
              "      <td>AllPub</td>\n",
              "      <td>1Fam</td>\n",
              "    </tr>\n",
              "    <tr>\n",
              "      <th>1459</th>\n",
              "      <td>147500</td>\n",
              "      <td>5</td>\n",
              "      <td>6</td>\n",
              "      <td>3</td>\n",
              "      <td>6</td>\n",
              "      <td>1256</td>\n",
              "      <td>1256</td>\n",
              "      <td>1965</td>\n",
              "      <td>RL</td>\n",
              "      <td>AllPub</td>\n",
              "      <td>1Fam</td>\n",
              "    </tr>\n",
              "  </tbody>\n",
              "</table>\n",
              "<p>1460 rows × 11 columns</p>\n",
              "</div>\n",
              "    <div class=\"colab-df-buttons\">\n",
              "\n",
              "  <div class=\"colab-df-container\">\n",
              "    <button class=\"colab-df-convert\" onclick=\"convertToInteractive('df-d35efd26-76ca-4cb7-93fa-f391c5b20cbe')\"\n",
              "            title=\"Convert this dataframe to an interactive table.\"\n",
              "            style=\"display:none;\">\n",
              "\n",
              "  <svg xmlns=\"http://www.w3.org/2000/svg\" height=\"24px\" viewBox=\"0 -960 960 960\">\n",
              "    <path d=\"M120-120v-720h720v720H120Zm60-500h600v-160H180v160Zm220 220h160v-160H400v160Zm0 220h160v-160H400v160ZM180-400h160v-160H180v160Zm440 0h160v-160H620v160ZM180-180h160v-160H180v160Zm440 0h160v-160H620v160Z\"/>\n",
              "  </svg>\n",
              "    </button>\n",
              "\n",
              "  <style>\n",
              "    .colab-df-container {\n",
              "      display:flex;\n",
              "      gap: 12px;\n",
              "    }\n",
              "\n",
              "    .colab-df-convert {\n",
              "      background-color: #E8F0FE;\n",
              "      border: none;\n",
              "      border-radius: 50%;\n",
              "      cursor: pointer;\n",
              "      display: none;\n",
              "      fill: #1967D2;\n",
              "      height: 32px;\n",
              "      padding: 0 0 0 0;\n",
              "      width: 32px;\n",
              "    }\n",
              "\n",
              "    .colab-df-convert:hover {\n",
              "      background-color: #E2EBFA;\n",
              "      box-shadow: 0px 1px 2px rgba(60, 64, 67, 0.3), 0px 1px 3px 1px rgba(60, 64, 67, 0.15);\n",
              "      fill: #174EA6;\n",
              "    }\n",
              "\n",
              "    .colab-df-buttons div {\n",
              "      margin-bottom: 4px;\n",
              "    }\n",
              "\n",
              "    [theme=dark] .colab-df-convert {\n",
              "      background-color: #3B4455;\n",
              "      fill: #D2E3FC;\n",
              "    }\n",
              "\n",
              "    [theme=dark] .colab-df-convert:hover {\n",
              "      background-color: #434B5C;\n",
              "      box-shadow: 0px 1px 3px 1px rgba(0, 0, 0, 0.15);\n",
              "      filter: drop-shadow(0px 1px 2px rgba(0, 0, 0, 0.3));\n",
              "      fill: #FFFFFF;\n",
              "    }\n",
              "  </style>\n",
              "\n",
              "    <script>\n",
              "      const buttonEl =\n",
              "        document.querySelector('#df-d35efd26-76ca-4cb7-93fa-f391c5b20cbe button.colab-df-convert');\n",
              "      buttonEl.style.display =\n",
              "        google.colab.kernel.accessAllowed ? 'block' : 'none';\n",
              "\n",
              "      async function convertToInteractive(key) {\n",
              "        const element = document.querySelector('#df-d35efd26-76ca-4cb7-93fa-f391c5b20cbe');\n",
              "        const dataTable =\n",
              "          await google.colab.kernel.invokeFunction('convertToInteractive',\n",
              "                                                    [key], {});\n",
              "        if (!dataTable) return;\n",
              "\n",
              "        const docLinkHtml = 'Like what you see? Visit the ' +\n",
              "          '<a target=\"_blank\" href=https://colab.research.google.com/notebooks/data_table.ipynb>data table notebook</a>'\n",
              "          + ' to learn more about interactive tables.';\n",
              "        element.innerHTML = '';\n",
              "        dataTable['output_type'] = 'display_data';\n",
              "        await google.colab.output.renderOutput(dataTable, element);\n",
              "        const docLink = document.createElement('div');\n",
              "        docLink.innerHTML = docLinkHtml;\n",
              "        element.appendChild(docLink);\n",
              "      }\n",
              "    </script>\n",
              "  </div>\n",
              "\n",
              "\n",
              "<div id=\"df-b3052678-dbed-4d25-9680-48311507be15\">\n",
              "  <button class=\"colab-df-quickchart\" onclick=\"quickchart('df-b3052678-dbed-4d25-9680-48311507be15')\"\n",
              "            title=\"Suggest charts\"\n",
              "            style=\"display:none;\">\n",
              "\n",
              "<svg xmlns=\"http://www.w3.org/2000/svg\" height=\"24px\"viewBox=\"0 0 24 24\"\n",
              "     width=\"24px\">\n",
              "    <g>\n",
              "        <path d=\"M19 3H5c-1.1 0-2 .9-2 2v14c0 1.1.9 2 2 2h14c1.1 0 2-.9 2-2V5c0-1.1-.9-2-2-2zM9 17H7v-7h2v7zm4 0h-2V7h2v10zm4 0h-2v-4h2v4z\"/>\n",
              "    </g>\n",
              "</svg>\n",
              "  </button>\n",
              "\n",
              "<style>\n",
              "  .colab-df-quickchart {\n",
              "      --bg-color: #E8F0FE;\n",
              "      --fill-color: #1967D2;\n",
              "      --hover-bg-color: #E2EBFA;\n",
              "      --hover-fill-color: #174EA6;\n",
              "      --disabled-fill-color: #AAA;\n",
              "      --disabled-bg-color: #DDD;\n",
              "  }\n",
              "\n",
              "  [theme=dark] .colab-df-quickchart {\n",
              "      --bg-color: #3B4455;\n",
              "      --fill-color: #D2E3FC;\n",
              "      --hover-bg-color: #434B5C;\n",
              "      --hover-fill-color: #FFFFFF;\n",
              "      --disabled-bg-color: #3B4455;\n",
              "      --disabled-fill-color: #666;\n",
              "  }\n",
              "\n",
              "  .colab-df-quickchart {\n",
              "    background-color: var(--bg-color);\n",
              "    border: none;\n",
              "    border-radius: 50%;\n",
              "    cursor: pointer;\n",
              "    display: none;\n",
              "    fill: var(--fill-color);\n",
              "    height: 32px;\n",
              "    padding: 0;\n",
              "    width: 32px;\n",
              "  }\n",
              "\n",
              "  .colab-df-quickchart:hover {\n",
              "    background-color: var(--hover-bg-color);\n",
              "    box-shadow: 0 1px 2px rgba(60, 64, 67, 0.3), 0 1px 3px 1px rgba(60, 64, 67, 0.15);\n",
              "    fill: var(--button-hover-fill-color);\n",
              "  }\n",
              "\n",
              "  .colab-df-quickchart-complete:disabled,\n",
              "  .colab-df-quickchart-complete:disabled:hover {\n",
              "    background-color: var(--disabled-bg-color);\n",
              "    fill: var(--disabled-fill-color);\n",
              "    box-shadow: none;\n",
              "  }\n",
              "\n",
              "  .colab-df-spinner {\n",
              "    border: 2px solid var(--fill-color);\n",
              "    border-color: transparent;\n",
              "    border-bottom-color: var(--fill-color);\n",
              "    animation:\n",
              "      spin 1s steps(1) infinite;\n",
              "  }\n",
              "\n",
              "  @keyframes spin {\n",
              "    0% {\n",
              "      border-color: transparent;\n",
              "      border-bottom-color: var(--fill-color);\n",
              "      border-left-color: var(--fill-color);\n",
              "    }\n",
              "    20% {\n",
              "      border-color: transparent;\n",
              "      border-left-color: var(--fill-color);\n",
              "      border-top-color: var(--fill-color);\n",
              "    }\n",
              "    30% {\n",
              "      border-color: transparent;\n",
              "      border-left-color: var(--fill-color);\n",
              "      border-top-color: var(--fill-color);\n",
              "      border-right-color: var(--fill-color);\n",
              "    }\n",
              "    40% {\n",
              "      border-color: transparent;\n",
              "      border-right-color: var(--fill-color);\n",
              "      border-top-color: var(--fill-color);\n",
              "    }\n",
              "    60% {\n",
              "      border-color: transparent;\n",
              "      border-right-color: var(--fill-color);\n",
              "    }\n",
              "    80% {\n",
              "      border-color: transparent;\n",
              "      border-right-color: var(--fill-color);\n",
              "      border-bottom-color: var(--fill-color);\n",
              "    }\n",
              "    90% {\n",
              "      border-color: transparent;\n",
              "      border-bottom-color: var(--fill-color);\n",
              "    }\n",
              "  }\n",
              "</style>\n",
              "\n",
              "  <script>\n",
              "    async function quickchart(key) {\n",
              "      const quickchartButtonEl =\n",
              "        document.querySelector('#' + key + ' button');\n",
              "      quickchartButtonEl.disabled = true;  // To prevent multiple clicks.\n",
              "      quickchartButtonEl.classList.add('colab-df-spinner');\n",
              "      try {\n",
              "        const charts = await google.colab.kernel.invokeFunction(\n",
              "            'suggestCharts', [key], {});\n",
              "      } catch (error) {\n",
              "        console.error('Error during call to suggestCharts:', error);\n",
              "      }\n",
              "      quickchartButtonEl.classList.remove('colab-df-spinner');\n",
              "      quickchartButtonEl.classList.add('colab-df-quickchart-complete');\n",
              "    }\n",
              "    (() => {\n",
              "      let quickchartButtonEl =\n",
              "        document.querySelector('#df-b3052678-dbed-4d25-9680-48311507be15 button');\n",
              "      quickchartButtonEl.style.display =\n",
              "        google.colab.kernel.accessAllowed ? 'block' : 'none';\n",
              "    })();\n",
              "  </script>\n",
              "</div>\n",
              "\n",
              "  <div id=\"id_5a7d1c9d-e3e5-4480-9778-28ea63faab52\">\n",
              "    <style>\n",
              "      .colab-df-generate {\n",
              "        background-color: #E8F0FE;\n",
              "        border: none;\n",
              "        border-radius: 50%;\n",
              "        cursor: pointer;\n",
              "        display: none;\n",
              "        fill: #1967D2;\n",
              "        height: 32px;\n",
              "        padding: 0 0 0 0;\n",
              "        width: 32px;\n",
              "      }\n",
              "\n",
              "      .colab-df-generate:hover {\n",
              "        background-color: #E2EBFA;\n",
              "        box-shadow: 0px 1px 2px rgba(60, 64, 67, 0.3), 0px 1px 3px 1px rgba(60, 64, 67, 0.15);\n",
              "        fill: #174EA6;\n",
              "      }\n",
              "\n",
              "      [theme=dark] .colab-df-generate {\n",
              "        background-color: #3B4455;\n",
              "        fill: #D2E3FC;\n",
              "      }\n",
              "\n",
              "      [theme=dark] .colab-df-generate:hover {\n",
              "        background-color: #434B5C;\n",
              "        box-shadow: 0px 1px 3px 1px rgba(0, 0, 0, 0.15);\n",
              "        filter: drop-shadow(0px 1px 2px rgba(0, 0, 0, 0.3));\n",
              "        fill: #FFFFFF;\n",
              "      }\n",
              "    </style>\n",
              "    <button class=\"colab-df-generate\" onclick=\"generateWithVariable('df')\"\n",
              "            title=\"Generate code using this dataframe.\"\n",
              "            style=\"display:none;\">\n",
              "\n",
              "  <svg xmlns=\"http://www.w3.org/2000/svg\" height=\"24px\"viewBox=\"0 0 24 24\"\n",
              "       width=\"24px\">\n",
              "    <path d=\"M7,19H8.4L18.45,9,17,7.55,7,17.6ZM5,21V16.75L18.45,3.32a2,2,0,0,1,2.83,0l1.4,1.43a1.91,1.91,0,0,1,.58,1.4,1.91,1.91,0,0,1-.58,1.4L9.25,21ZM18.45,9,17,7.55Zm-12,3A5.31,5.31,0,0,0,4.9,8.1,5.31,5.31,0,0,0,1,6.5,5.31,5.31,0,0,0,4.9,4.9,5.31,5.31,0,0,0,6.5,1,5.31,5.31,0,0,0,8.1,4.9,5.31,5.31,0,0,0,12,6.5,5.46,5.46,0,0,0,6.5,12Z\"/>\n",
              "  </svg>\n",
              "    </button>\n",
              "    <script>\n",
              "      (() => {\n",
              "      const buttonEl =\n",
              "        document.querySelector('#id_5a7d1c9d-e3e5-4480-9778-28ea63faab52 button.colab-df-generate');\n",
              "      buttonEl.style.display =\n",
              "        google.colab.kernel.accessAllowed ? 'block' : 'none';\n",
              "\n",
              "      buttonEl.onclick = () => {\n",
              "        google.colab.notebook.generateWithVariable('df');\n",
              "      }\n",
              "      })();\n",
              "    </script>\n",
              "  </div>\n",
              "\n",
              "    </div>\n",
              "  </div>\n"
            ],
            "application/vnd.google.colaboratory.intrinsic+json": {
              "type": "dataframe",
              "variable_name": "df",
              "summary": "{\n  \"name\": \"df\",\n  \"rows\": 1460,\n  \"fields\": [\n    {\n      \"column\": \"SalePrice\",\n      \"properties\": {\n        \"dtype\": \"number\",\n        \"std\": 79442,\n        \"min\": 34900,\n        \"max\": 755000,\n        \"num_unique_values\": 663,\n        \"samples\": [\n          91300,\n          174500,\n          150900\n        ],\n        \"semantic_type\": \"\",\n        \"description\": \"\"\n      }\n    },\n    {\n      \"column\": \"OverallQual\",\n      \"properties\": {\n        \"dtype\": \"number\",\n        \"std\": 1,\n        \"min\": 1,\n        \"max\": 10,\n        \"num_unique_values\": 10,\n        \"samples\": [\n          1,\n          6,\n          4\n        ],\n        \"semantic_type\": \"\",\n        \"description\": \"\"\n      }\n    },\n    {\n      \"column\": \"OverallCond\",\n      \"properties\": {\n        \"dtype\": \"number\",\n        \"std\": 1,\n        \"min\": 1,\n        \"max\": 9,\n        \"num_unique_values\": 9,\n        \"samples\": [\n          9,\n          8,\n          2\n        ],\n        \"semantic_type\": \"\",\n        \"description\": \"\"\n      }\n    },\n    {\n      \"column\": \"BedroomAbvGr\",\n      \"properties\": {\n        \"dtype\": \"number\",\n        \"std\": 0,\n        \"min\": 0,\n        \"max\": 8,\n        \"num_unique_values\": 8,\n        \"samples\": [\n          4,\n          5,\n          3\n        ],\n        \"semantic_type\": \"\",\n        \"description\": \"\"\n      }\n    },\n    {\n      \"column\": \"TotRmsAbvGrd\",\n      \"properties\": {\n        \"dtype\": \"number\",\n        \"std\": 1,\n        \"min\": 2,\n        \"max\": 14,\n        \"num_unique_values\": 12,\n        \"samples\": [\n          2,\n          3,\n          8\n        ],\n        \"semantic_type\": \"\",\n        \"description\": \"\"\n      }\n    },\n    {\n      \"column\": \"GrLivArea\",\n      \"properties\": {\n        \"dtype\": \"number\",\n        \"std\": 525,\n        \"min\": 334,\n        \"max\": 5642,\n        \"num_unique_values\": 861,\n        \"samples\": [\n          1459,\n          1775,\n          840\n        ],\n        \"semantic_type\": \"\",\n        \"description\": \"\"\n      }\n    },\n    {\n      \"column\": \"TotalBsmtSF\",\n      \"properties\": {\n        \"dtype\": \"number\",\n        \"std\": 438,\n        \"min\": 0,\n        \"max\": 6110,\n        \"num_unique_values\": 721,\n        \"samples\": [\n          1536,\n          1192,\n          684\n        ],\n        \"semantic_type\": \"\",\n        \"description\": \"\"\n      }\n    },\n    {\n      \"column\": \"YearBuilt\",\n      \"properties\": {\n        \"dtype\": \"number\",\n        \"std\": 30,\n        \"min\": 1872,\n        \"max\": 2010,\n        \"num_unique_values\": 112,\n        \"samples\": [\n          1999,\n          1936,\n          2000\n        ],\n        \"semantic_type\": \"\",\n        \"description\": \"\"\n      }\n    },\n    {\n      \"column\": \"MSZoning\",\n      \"properties\": {\n        \"dtype\": \"category\",\n        \"num_unique_values\": 5,\n        \"samples\": [\n          \"RM\",\n          \"RH\",\n          \"C (all)\"\n        ],\n        \"semantic_type\": \"\",\n        \"description\": \"\"\n      }\n    },\n    {\n      \"column\": \"Utilities\",\n      \"properties\": {\n        \"dtype\": \"category\",\n        \"num_unique_values\": 2,\n        \"samples\": [\n          \"NoSeWa\",\n          \"AllPub\"\n        ],\n        \"semantic_type\": \"\",\n        \"description\": \"\"\n      }\n    },\n    {\n      \"column\": \"BldgType\",\n      \"properties\": {\n        \"dtype\": \"category\",\n        \"num_unique_values\": 5,\n        \"samples\": [\n          \"2fmCon\",\n          \"Twnhs\"\n        ],\n        \"semantic_type\": \"\",\n        \"description\": \"\"\n      }\n    }\n  ]\n}"
            }
          },
          "metadata": {},
          "execution_count": 6
        }
      ]
    },
    {
      "cell_type": "markdown",
      "source": [
        "## 1) A qualidade da casa é superior para as casas caras?"
      ],
      "metadata": {
        "id": "_F_fP8O51YL7"
      }
    },
    {
      "cell_type": "code",
      "source": [
        "import numpy as np\n",
        "df['categoria_preco'] = np.where(df['SalePrice']>214000, \"cara\", \"barata\")"
      ],
      "metadata": {
        "id": "nGQl_sSn1ke9"
      },
      "execution_count": 7,
      "outputs": []
    },
    {
      "cell_type": "code",
      "source": [
        "df.categoria_preco.value_counts()"
      ],
      "metadata": {
        "colab": {
          "base_uri": "https://localhost:8080/"
        },
        "id": "aqlJo3t82Sh_",
        "outputId": "56a7f39f-95a3-44ec-8be3-7fbf738018e9"
      },
      "execution_count": 8,
      "outputs": [
        {
          "output_type": "execute_result",
          "data": {
            "text/plain": [
              "categoria_preco\n",
              "barata    1098\n",
              "cara       362\n",
              "Name: count, dtype: int64"
            ]
          },
          "metadata": {},
          "execution_count": 8
        }
      ]
    },
    {
      "cell_type": "markdown",
      "source": [
        "Vamos verificar se as variâncias são iguais ou não."
      ],
      "metadata": {
        "id": "e-53kPsO3Crx"
      }
    },
    {
      "cell_type": "code",
      "source": [
        "df.groupby('categoria_preco').OverallQual.var()"
      ],
      "metadata": {
        "colab": {
          "base_uri": "https://localhost:8080/"
        },
        "id": "CfpXDkEt3QUv",
        "outputId": "193c98e6-8f53-4c91-b035-76b2b194cd76"
      },
      "execution_count": 9,
      "outputs": [
        {
          "output_type": "execute_result",
          "data": {
            "text/plain": [
              "categoria_preco\n",
              "barata    1.155817\n",
              "cara      1.015082\n",
              "Name: OverallQual, dtype: float64"
            ]
          },
          "metadata": {},
          "execution_count": 9
        }
      ]
    },
    {
      "cell_type": "code",
      "source": [
        "import scipy.stats\n",
        "\n",
        "caras = df[df['categoria_preco'] == 'cara']['OverallQual']\n",
        "baratas = df[df['categoria_preco'] == 'barata']['OverallQual']\n",
        "\n",
        "df_cara = len(caras)-1 #Graus de liberdade\n",
        "df_barata = len(baratas)-1 #Graus de liberdade\n",
        "\n",
        "F = baratas.var()/caras.var()\n",
        "alpha = 0.05\n",
        "1-scipy.stats.f.cdf(F, df_barata, df_cara)\n"
      ],
      "metadata": {
        "colab": {
          "base_uri": "https://localhost:8080/"
        },
        "id": "HBeRIOHx3bGu",
        "outputId": "109ad1ff-1075-4ce9-e76a-e2705e90eeca"
      },
      "execution_count": 11,
      "outputs": [
        {
          "output_type": "execute_result",
          "data": {
            "text/plain": [
              "0.06926035584305512"
            ]
          },
          "metadata": {},
          "execution_count": 11
        }
      ]
    },
    {
      "cell_type": "markdown",
      "source": [
        "o nosso p-valor é maior que o alpha, logo aceitamos a hipótese nula que as variâncias são iguais!"
      ],
      "metadata": {
        "id": "1u1j9bBS5-Vy"
      }
    },
    {
      "cell_type": "markdown",
      "source": [
        "Dado isso, vamos verificar se o preço influencia na qualidade geral da casa.\n",
        "\n",
        "Como temos mais de 30 amostras e queremos comparar as médias, conseguimos aplicar o teste t para 2 amostras independetes com desvio padrão populacional desconhecido e var iguais."
      ],
      "metadata": {
        "id": "Re5sVlmg7TY5"
      }
    },
    {
      "cell_type": "code",
      "source": [
        "import scipy.stats as stats\n",
        "\n",
        "stats.ttest_ind(caras, baratas, equal_var=True)"
      ],
      "metadata": {
        "colab": {
          "base_uri": "https://localhost:8080/"
        },
        "id": "ASX1fPwv5U7w",
        "outputId": "450c2125-7138-433a-b55a-e3c9c40e2dd2"
      },
      "execution_count": 12,
      "outputs": [
        {
          "output_type": "execute_result",
          "data": {
            "text/plain": [
              "TtestResult(statistic=32.11617268428233, pvalue=1.351855855595365e-171, df=1458.0)"
            ]
          },
          "metadata": {},
          "execution_count": 12
        }
      ]
    },
    {
      "cell_type": "markdown",
      "source": [
        "O p-valor é muito pequeno, com 95% de confiança eu rejeito a hipótesse nula e afirmo que as casas tem médias diferentes."
      ],
      "metadata": {
        "id": "-RV5b2iZ8ILg"
      }
    },
    {
      "cell_type": "markdown",
      "source": [
        "## 2) Há diferença de média de preço significativa de acordo com a zona de moradia?  Use 95% confiança"
      ],
      "metadata": {
        "id": "huqidqil-IMO"
      }
    },
    {
      "cell_type": "code",
      "source": [
        "import seaborn as sns\n",
        "import matplotlib.pyplot as plt\n",
        "\n",
        "#MSZoning\n",
        "sns.set(rc = {'figure.figsize':(20,8)})\n",
        "fig = sns.boxplot(x=\"MSZoning\", y=\"SalePrice\", data=df)\n",
        "plt.xticks(rotation=90);\n",
        "\n",
        "      #  A    Agriculture\n",
        "      #  C    Commercial\n",
        "      #  FV    Floating Village Residential\n",
        "      #  I     Industrial\n",
        "      #  RH    Residential High Density\n",
        "      #  RL    Residential Low Density # describes the number of housing units per given unit of land in a particular area\n",
        "      #  RP    Residential Low Density Park\n",
        "      #  RM    Residential Medium Density"
      ],
      "metadata": {
        "colab": {
          "base_uri": "https://localhost:8080/",
          "height": 336
        },
        "id": "xHyv-gVV-WNe",
        "outputId": "4fe65fa1-205b-4774-c904-67deacc7f850"
      },
      "execution_count": 14,
      "outputs": [
        {
          "output_type": "display_data",
          "data": {
            "text/plain": [
              "<Figure size 2000x800 with 1 Axes>"
            ],
            "image/png": "[encoded data removed]"
          },
          "metadata": {}
        }
      ]
    },
    {
      "cell_type": "code",
      "source": [
        "df['MSZoning'].value_counts()"
      ],
      "metadata": {
        "colab": {
          "base_uri": "https://localhost:8080/"
        },
        "id": "Rgpk9YxK-bSJ",
        "outputId": "0f63c4f1-54b2-4417-f6e5-0a1d1b3b3783"
      },
      "execution_count": 15,
      "outputs": [
        {
          "output_type": "execute_result",
          "data": {
            "text/plain": [
              "MSZoning\n",
              "RL         1151\n",
              "RM          218\n",
              "FV           65\n",
              "RH           16\n",
              "C (all)      10\n",
              "Name: count, dtype: int64"
            ]
          },
          "metadata": {},
          "execution_count": 15
        }
      ]
    },
    {
      "cell_type": "code",
      "source": [
        "df.groupby('MSZoning').SalePrice.var()"
      ],
      "metadata": {
        "colab": {
          "base_uri": "https://localhost:8080/"
        },
        "id": "PUubxFle_pwe",
        "outputId": "47acdac8-c579-42a9-ab64-73589b76390b"
      },
      "execution_count": 16,
      "outputs": [
        {
          "output_type": "execute_result",
          "data": {
            "text/plain": [
              "MSZoning\n",
              "C (all)    1.141838e+09\n",
              "FV         2.742582e+09\n",
              "RH         1.275498e+09\n",
              "RL         6.523202e+09\n",
              "RM         2.354354e+09\n",
              "Name: SalePrice, dtype: float64"
            ]
          },
          "metadata": {},
          "execution_count": 16
        }
      ]
    },
    {
      "cell_type": "markdown",
      "source": [
        "A ANOVA (Análise de Variância) é uma técnica estatística utilizada para verificar se as médias de três ou mais grupos são significativamente diferentes entre si. Para que a ANOVA seja aplicada corretamente, devem ser atendidas as seguintes condições:\n",
        "\n",
        "1. **Amostras Aleatórias:**\n",
        "   - As amostras de cada grupo devem ser selecionadas aleatoriamente da população, garantindo que cada membro tenha uma chance igual de ser incluído.\n",
        "\n",
        "2. **Grupos Independentes:**\n",
        "   - Os grupos devem ser independentes uns dos outros, ou seja, a seleção de membros de um grupo não deve influenciar a seleção de membros de outro grupo.\n",
        "\n",
        "3. **Variável Dependente Contínua:**\n",
        "   - A variável que estamos analisando deve ser contínua, o que significa que pode assumir qualquer valor dentro de um intervalo.\n",
        "\n",
        "4. **Tamanho das Amostras:**\n",
        "   - Cada grupo deve ter pelo menos 15 observações (n ≥ 15), garantindo que as estimativas sejam suficientemente precisas.\n",
        "\n",
        "5. **Homogeneidade das Variâncias:**\n",
        "   - As variâncias populacionais dos diferentes grupos devem ser aproximadamente iguais, uma condição conhecida como homocedasticidade. Isso assegura que a comparação entre as médias seja válida.\n",
        "\n",
        "Atendendo a esses critérios, a ANOVA pode ser usada para testar a hipótese nula de que todas as médias dos grupos são iguais contra a hipótese alternativa de que pelo menos uma média é diferente das outras."
      ],
      "metadata": {
        "id": "CczmhSluATds"
      }
    },
    {
      "cell_type": "code",
      "source": [
        "#separando cada item em um dataset"
      ],
      "metadata": {
        "id": "pcogZzvs_5Sd"
      },
      "execution_count": null,
      "outputs": []
    },
    {
      "cell_type": "code",
      "source": [
        "lista_RL = df[df['MSZoning'] == 'RL']['SalePrice'].dropna()\n",
        "lista_RM = df[df['MSZoning'] == 'RM']['SalePrice'].dropna()\n",
        "lista_FV = df[df['MSZoning'] == 'FV']['SalePrice'].dropna()\n",
        "lista_RH = df[df['MSZoning'] == 'RH']['SalePrice'].dropna()\n",
        "lista_C = df[df['MSZoning'] == 'C (all)']['SalePrice'].dropna()"
      ],
      "metadata": {
        "id": "ATbeyNCpAVwb"
      },
      "execution_count": 17,
      "outputs": []
    },
    {
      "cell_type": "markdown",
      "source": [
        "Teste de Barlett: Teste para variância para 3 ou mais amostras"
      ],
      "metadata": {
        "id": "flOR7YFJBBWN"
      }
    },
    {
      "cell_type": "code",
      "source": [
        "stats.bartlett(lista_RL, lista_RM, lista_FV, lista_RH, lista_C)"
      ],
      "metadata": {
        "colab": {
          "base_uri": "https://localhost:8080/"
        },
        "id": "TyvXk0DdA0qt",
        "outputId": "d86d6916-1e3c-4a81-dde5-e19c7de1c440"
      },
      "execution_count": 20,
      "outputs": [
        {
          "output_type": "execute_result",
          "data": {
            "text/plain": [
              "BartlettResult(statistic=105.35211144902941, pvalue=7.12623706154424e-22)"
            ]
          },
          "metadata": {},
          "execution_count": 20
        }
      ]
    },
    {
      "cell_type": "markdown",
      "source": [
        "Como p-valor é menor que alpha, concluimos que não podemos aceitar a hipótese nula, ou seja, as variâncias são diferentes."
      ],
      "metadata": {
        "id": "wFFoWM__B4Dx"
      }
    },
    {
      "cell_type": "markdown",
      "source": [
        "##ANOVA WELCH\n",
        "\n",
        "- Podemos usar quando as variâncias são diferentes!"
      ],
      "metadata": {
        "id": "p3ufNZEDCUyk"
      }
    },
    {
      "cell_type": "code",
      "source": [
        "import pingouin as pg\n",
        "\n",
        "pg.welch_anova(dv='SalePrice',between='MSZoning', data=df)"
      ],
      "metadata": {
        "colab": {
          "base_uri": "https://localhost:8080/",
          "height": 80
        },
        "id": "gZ3IwgxfB1JO",
        "outputId": "8caab898-c128-4e2f-c3f8-5b93697c53d4"
      },
      "execution_count": 21,
      "outputs": [
        {
          "output_type": "execute_result",
          "data": {
            "text/plain": [
              "     Source  ddof1      ddof2          F         p-unc      np2\n",
              "0  MSZoning      4  43.892971  95.072489  4.951041e-21  0.10756"
            ],
            "text/html": [
              "\n",
              "  <div id=\"df-1b9d830a-0eb0-414d-b6d9-009920675ea3\" class=\"colab-df-container\">\n",
              "    <div>\n",
              "<style scoped>\n",
              "    .dataframe tbody tr th:only-of-type {\n",
              "        vertical-align: middle;\n",
              "    }\n",
              "\n",
              "    .dataframe tbody tr th {\n",
              "        vertical-align: top;\n",
              "    }\n",
              "\n",
              "    .dataframe thead th {\n",
              "        text-align: right;\n",
              "    }\n",
              "</style>\n",
              "<table border=\"1\" class=\"dataframe\">\n",
              "  <thead>\n",
              "    <tr style=\"text-align: right;\">\n",
              "      <th></th>\n",
              "      <th>Source</th>\n",
              "      <th>ddof1</th>\n",
              "      <th>ddof2</th>\n",
              "      <th>F</th>\n",
              "      <th>p-unc</th>\n",
              "      <th>np2</th>\n",
              "    </tr>\n",
              "  </thead>\n",
              "  <tbody>\n",
              "    <tr>\n",
              "      <th>0</th>\n",
              "      <td>MSZoning</td>\n",
              "      <td>4</td>\n",
              "      <td>43.892971</td>\n",
              "      <td>95.072489</td>\n",
              "      <td>4.951041e-21</td>\n",
              "      <td>0.10756</td>\n",
              "    </tr>\n",
              "  </tbody>\n",
              "</table>\n",
              "</div>\n",
              "    <div class=\"colab-df-buttons\">\n",
              "\n",
              "  <div class=\"colab-df-container\">\n",
              "    <button class=\"colab-df-convert\" onclick=\"convertToInteractive('df-1b9d830a-0eb0-414d-b6d9-009920675ea3')\"\n",
              "            title=\"Convert this dataframe to an interactive table.\"\n",
              "            style=\"display:none;\">\n",
              "\n",
              "  <svg xmlns=\"http://www.w3.org/2000/svg\" height=\"24px\" viewBox=\"0 -960 960 960\">\n",
              "    <path d=\"M120-120v-720h720v720H120Zm60-500h600v-160H180v160Zm220 220h160v-160H400v160Zm0 220h160v-160H400v160ZM180-400h160v-160H180v160Zm440 0h160v-160H620v160ZM180-180h160v-160H180v160Zm440 0h160v-160H620v160Z\"/>\n",
              "  </svg>\n",
              "    </button>\n",
              "\n",
              "  <style>\n",
              "    .colab-df-container {\n",
              "      display:flex;\n",
              "      gap: 12px;\n",
              "    }\n",
              "\n",
              "    .colab-df-convert {\n",
              "      background-color: #E8F0FE;\n",
              "      border: none;\n",
              "      border-radius: 50%;\n",
              "      cursor: pointer;\n",
              "      display: none;\n",
              "      fill: #1967D2;\n",
              "      height: 32px;\n",
              "      padding: 0 0 0 0;\n",
              "      width: 32px;\n",
              "    }\n",
              "\n",
              "    .colab-df-convert:hover {\n",
              "      background-color: #E2EBFA;\n",
              "      box-shadow: 0px 1px 2px rgba(60, 64, 67, 0.3), 0px 1px 3px 1px rgba(60, 64, 67, 0.15);\n",
              "      fill: #174EA6;\n",
              "    }\n",
              "\n",
              "    .colab-df-buttons div {\n",
              "      margin-bottom: 4px;\n",
              "    }\n",
              "\n",
              "    [theme=dark] .colab-df-convert {\n",
              "      background-color: #3B4455;\n",
              "      fill: #D2E3FC;\n",
              "    }\n",
              "\n",
              "    [theme=dark] .colab-df-convert:hover {\n",
              "      background-color: #434B5C;\n",
              "      box-shadow: 0px 1px 3px 1px rgba(0, 0, 0, 0.15);\n",
              "      filter: drop-shadow(0px 1px 2px rgba(0, 0, 0, 0.3));\n",
              "      fill: #FFFFFF;\n",
              "    }\n",
              "  </style>\n",
              "\n",
              "    <script>\n",
              "      const buttonEl =\n",
              "        document.querySelector('#df-1b9d830a-0eb0-414d-b6d9-009920675ea3 button.colab-df-convert');\n",
              "      buttonEl.style.display =\n",
              "        google.colab.kernel.accessAllowed ? 'block' : 'none';\n",
              "\n",
              "      async function convertToInteractive(key) {\n",
              "        const element = document.querySelector('#df-1b9d830a-0eb0-414d-b6d9-009920675ea3');\n",
              "        const dataTable =\n",
              "          await google.colab.kernel.invokeFunction('convertToInteractive',\n",
              "                                                    [key], {});\n",
              "        if (!dataTable) return;\n",
              "\n",
              "        const docLinkHtml = 'Like what you see? Visit the ' +\n",
              "          '<a target=\"_blank\" href=https://colab.research.google.com/notebooks/data_table.ipynb>data table notebook</a>'\n",
              "          + ' to learn more about interactive tables.';\n",
              "        element.innerHTML = '';\n",
              "        dataTable['output_type'] = 'display_data';\n",
              "        await google.colab.output.renderOutput(dataTable, element);\n",
              "        const docLink = document.createElement('div');\n",
              "        docLink.innerHTML = docLinkHtml;\n",
              "        element.appendChild(docLink);\n",
              "      }\n",
              "    </script>\n",
              "  </div>\n",
              "\n",
              "\n",
              "    </div>\n",
              "  </div>\n"
            ],
            "application/vnd.google.colaboratory.intrinsic+json": {
              "type": "dataframe",
              "summary": "{\n  \"name\": \"pg\",\n  \"rows\": 1,\n  \"fields\": [\n    {\n      \"column\": \"Source\",\n      \"properties\": {\n        \"dtype\": \"string\",\n        \"num_unique_values\": 1,\n        \"samples\": [\n          \"MSZoning\"\n        ],\n        \"semantic_type\": \"\",\n        \"description\": \"\"\n      }\n    },\n    {\n      \"column\": \"ddof1\",\n      \"properties\": {\n        \"dtype\": \"number\",\n        \"std\": null,\n        \"min\": 4,\n        \"max\": 4,\n        \"num_unique_values\": 1,\n        \"samples\": [\n          4\n        ],\n        \"semantic_type\": \"\",\n        \"description\": \"\"\n      }\n    },\n    {\n      \"column\": \"ddof2\",\n      \"properties\": {\n        \"dtype\": \"number\",\n        \"std\": null,\n        \"min\": 43.89297093677771,\n        \"max\": 43.89297093677771,\n        \"num_unique_values\": 1,\n        \"samples\": [\n          43.89297093677771\n        ],\n        \"semantic_type\": \"\",\n        \"description\": \"\"\n      }\n    },\n    {\n      \"column\": \"F\",\n      \"properties\": {\n        \"dtype\": \"number\",\n        \"std\": null,\n        \"min\": 95.07248939765032,\n        \"max\": 95.07248939765032,\n        \"num_unique_values\": 1,\n        \"samples\": [\n          95.07248939765032\n        ],\n        \"semantic_type\": \"\",\n        \"description\": \"\"\n      }\n    },\n    {\n      \"column\": \"p-unc\",\n      \"properties\": {\n        \"dtype\": \"number\",\n        \"std\": null,\n        \"min\": 4.951041238112391e-21,\n        \"max\": 4.951041238112391e-21,\n        \"num_unique_values\": 1,\n        \"samples\": [\n          4.951041238112391e-21\n        ],\n        \"semantic_type\": \"\",\n        \"description\": \"\"\n      }\n    },\n    {\n      \"column\": \"np2\",\n      \"properties\": {\n        \"dtype\": \"number\",\n        \"std\": null,\n        \"min\": 0.10755968344624964,\n        \"max\": 0.10755968344624964,\n        \"num_unique_values\": 1,\n        \"samples\": [\n          0.10755968344624964\n        ],\n        \"semantic_type\": \"\",\n        \"description\": \"\"\n      }\n    }\n  ]\n}"
            }
          },
          "metadata": {},
          "execution_count": 21
        }
      ]
    },
    {
      "cell_type": "markdown",
      "source": [
        "### Porém, aqui cometemos um abuso!\n",
        "\n",
        "ANOVA Welch e o Bartlett requer que os dados sejam normais ou que tenhamos pelo menos 15 dados em cada grupo. O grupo C tem apenas 10.\n",
        "\n",
        "Para esse teste, precisaríamos de um teste **não paramétrico** para de fato comprovar essa diferença, como o Kruskal–Wallis\n",
        "\n",
        "**Kruskal–Wallis**\n",
        "O teste Kruskal-Wallis é um teste não paramétrico que pode ser usado para determinar se existem diferenças estatisticamente significativas entre dois ou mais grupos de uma variável independente em um variável dependente contínua ou ordinal. É considerada a alternativa não paramétrica à ANOVA one-way e uma extensão do teste U de Mann-Whitney para permitir a comparação de mais de dois grupos independentes."
      ],
      "metadata": {
        "id": "eCDauyA6C5me"
      }
    },
    {
      "cell_type": "code",
      "source": [
        "stats.kruskal(lista_RL, lista_RM, lista_FV, lista_RH, lista_C)"
      ],
      "metadata": {
        "colab": {
          "base_uri": "https://localhost:8080/"
        },
        "id": "JtgZaGDMCmvn",
        "outputId": "80ab6d6f-904d-4711-a717-8d4a8d31de1a"
      },
      "execution_count": 24,
      "outputs": [
        {
          "output_type": "execute_result",
          "data": {
            "text/plain": [
              "KruskalResult(statistic=270.0701971937021, pvalue=3.0807239995999556e-57)"
            ]
          },
          "metadata": {},
          "execution_count": 24
        }
      ]
    },
    {
      "cell_type": "markdown",
      "source": [
        "**Post Hoc**\n",
        "\n",
        "Utilizando agora um teste post hoc vamos descobrir quais pares não são iguais. Dado que os nossos dados violam a aproximação de uma distribuição normal e as variâncias das amostras não são iguais, não podemos usar Tukey. Vamos então utilizar games howell!"
      ],
      "metadata": {
        "id": "Y5fhgN44Dgnt"
      }
    },
    {
      "cell_type": "code",
      "source": [
        "pg.pairwise_gameshowell(data=df, dv='SalePrice', between='MSZoning')"
      ],
      "metadata": {
        "colab": {
          "base_uri": "https://localhost:8080/",
          "height": 556
        },
        "id": "gcBNX7YFDEsC",
        "outputId": "f9b80f2c-996f-40da-973c-072d24938619"
      },
      "execution_count": 25,
      "outputs": [
        {
          "output_type": "execute_result",
          "data": {
            "text/plain": [
              "         A   B        mean(A)        mean(B)           diff            se  \\\n",
              "0  C (all)  FV   74528.000000  214014.061538 -139486.061538  12505.093030   \n",
              "1  C (all)  RH   74528.000000  131558.375000  -57030.375000  13924.885315   \n",
              "2  C (all)  RL   74528.000000  191004.994787 -116476.994787  10947.657802   \n",
              "3  C (all)  RM   74528.000000  126316.830275  -51788.830275  11179.605575   \n",
              "4       FV  RH  214014.061538  131558.375000   82455.686538  11041.385900   \n",
              "5       FV  RL  214014.061538  191004.994787   23009.066751   6918.163260   \n",
              "6       FV  RM  214014.061538  126316.830275   87697.231263   7279.653314   \n",
              "7       RH  RL  131558.375000  191004.994787  -59446.619787   9240.457903   \n",
              "8       RH  RM  131558.375000  126316.830275    5241.544725   9514.117496   \n",
              "9       RL  RM  191004.994787  126316.830275   64688.164512   4057.981275   \n",
              "\n",
              "           T          df          pval    hedges  \n",
              "0 -11.154340   16.562315  3.680770e-08 -2.736320  \n",
              "1  -4.095572   20.080938  4.517312e-03 -1.577741  \n",
              "2 -10.639444    9.915396  7.454515e-06 -1.445853  \n",
              "3  -4.632438   10.778999  5.450447e-03 -1.074867  \n",
              "4   7.467875   32.919121  1.367747e-07  1.645290  \n",
              "5   3.325892   82.264978  1.123475e-02  0.289160  \n",
              "6  12.046897   99.041878  2.553513e-15  1.769629  \n",
              "7  -6.433298   17.207462  5.088732e-05 -0.739397  \n",
              "8   0.550923   19.315009  9.805160e-01  0.109307  \n",
              "9  15.940972  479.588043  4.495293e-13  0.844471  "
            ],
            "text/html": [
              "\n",
              "  <div id=\"df-da97a3df-fcf2-490f-9e88-0caadf938848\" class=\"colab-df-container\">\n",
              "    <div>\n",
              "<style scoped>\n",
              "    .dataframe tbody tr th:only-of-type {\n",
              "        vertical-align: middle;\n",
              "    }\n",
              "\n",
              "    .dataframe tbody tr th {\n",
              "        vertical-align: top;\n",
              "    }\n",
              "\n",
              "    .dataframe thead th {\n",
              "        text-align: right;\n",
              "    }\n",
              "</style>\n",
              "<table border=\"1\" class=\"dataframe\">\n",
              "  <thead>\n",
              "    <tr style=\"text-align: right;\">\n",
              "      <th></th>\n",
              "      <th>A</th>\n",
              "      <th>B</th>\n",
              "      <th>mean(A)</th>\n",
              "      <th>mean(B)</th>\n",
              "      <th>diff</th>\n",
              "      <th>se</th>\n",
              "      <th>T</th>\n",
              "      <th>df</th>\n",
              "      <th>pval</th>\n",
              "      <th>hedges</th>\n",
              "    </tr>\n",
              "  </thead>\n",
              "  <tbody>\n",
              "    <tr>\n",
              "      <th>0</th>\n",
              "      <td>C (all)</td>\n",
              "      <td>FV</td>\n",
              "      <td>74528.000000</td>\n",
              "      <td>214014.061538</td>\n",
              "      <td>-139486.061538</td>\n",
              "      <td>12505.093030</td>\n",
              "      <td>-11.154340</td>\n",
              "      <td>16.562315</td>\n",
              "      <td>3.680770e-08</td>\n",
              "      <td>-2.736320</td>\n",
              "    </tr>\n",
              "    <tr>\n",
              "      <th>1</th>\n",
              "      <td>C (all)</td>\n",
              "      <td>RH</td>\n",
              "      <td>74528.000000</td>\n",
              "      <td>131558.375000</td>\n",
              "      <td>-57030.375000</td>\n",
              "      <td>13924.885315</td>\n",
              "      <td>-4.095572</td>\n",
              "      <td>20.080938</td>\n",
              "      <td>4.517312e-03</td>\n",
              "      <td>-1.577741</td>\n",
              "    </tr>\n",
              "    <tr>\n",
              "      <th>2</th>\n",
              "      <td>C (all)</td>\n",
              "      <td>RL</td>\n",
              "      <td>74528.000000</td>\n",
              "      <td>191004.994787</td>\n",
              "      <td>-116476.994787</td>\n",
              "      <td>10947.657802</td>\n",
              "      <td>-10.639444</td>\n",
              "      <td>9.915396</td>\n",
              "      <td>7.454515e-06</td>\n",
              "      <td>-1.445853</td>\n",
              "    </tr>\n",
              "    <tr>\n",
              "      <th>3</th>\n",
              "      <td>C (all)</td>\n",
              "      <td>RM</td>\n",
              "      <td>74528.000000</td>\n",
              "      <td>126316.830275</td>\n",
              "      <td>-51788.830275</td>\n",
              "      <td>11179.605575</td>\n",
              "      <td>-4.632438</td>\n",
              "      <td>10.778999</td>\n",
              "      <td>5.450447e-03</td>\n",
              "      <td>-1.074867</td>\n",
              "    </tr>\n",
              "    <tr>\n",
              "      <th>4</th>\n",
              "      <td>FV</td>\n",
              "      <td>RH</td>\n",
              "      <td>214014.061538</td>\n",
              "      <td>131558.375000</td>\n",
              "      <td>82455.686538</td>\n",
              "      <td>11041.385900</td>\n",
              "      <td>7.467875</td>\n",
              "      <td>32.919121</td>\n",
              "      <td>1.367747e-07</td>\n",
              "      <td>1.645290</td>\n",
              "    </tr>\n",
              "    <tr>\n",
              "      <th>5</th>\n",
              "      <td>FV</td>\n",
              "      <td>RL</td>\n",
              "      <td>214014.061538</td>\n",
              "      <td>191004.994787</td>\n",
              "      <td>23009.066751</td>\n",
              "      <td>6918.163260</td>\n",
              "      <td>3.325892</td>\n",
              "      <td>82.264978</td>\n",
              "      <td>1.123475e-02</td>\n",
              "      <td>0.289160</td>\n",
              "    </tr>\n",
              "    <tr>\n",
              "      <th>6</th>\n",
              "      <td>FV</td>\n",
              "      <td>RM</td>\n",
              "      <td>214014.061538</td>\n",
              "      <td>126316.830275</td>\n",
              "      <td>87697.231263</td>\n",
              "      <td>7279.653314</td>\n",
              "      <td>12.046897</td>\n",
              "      <td>99.041878</td>\n",
              "      <td>2.553513e-15</td>\n",
              "      <td>1.769629</td>\n",
              "    </tr>\n",
              "    <tr>\n",
              "      <th>7</th>\n",
              "      <td>RH</td>\n",
              "      <td>RL</td>\n",
              "      <td>131558.375000</td>\n",
              "      <td>191004.994787</td>\n",
              "      <td>-59446.619787</td>\n",
              "      <td>9240.457903</td>\n",
              "      <td>-6.433298</td>\n",
              "      <td>17.207462</td>\n",
              "      <td>5.088732e-05</td>\n",
              "      <td>-0.739397</td>\n",
              "    </tr>\n",
              "    <tr>\n",
              "      <th>8</th>\n",
              "      <td>RH</td>\n",
              "      <td>RM</td>\n",
              "      <td>131558.375000</td>\n",
              "      <td>126316.830275</td>\n",
              "      <td>5241.544725</td>\n",
              "      <td>9514.117496</td>\n",
              "      <td>0.550923</td>\n",
              "      <td>19.315009</td>\n",
              "      <td>9.805160e-01</td>\n",
              "      <td>0.109307</td>\n",
              "    </tr>\n",
              "    <tr>\n",
              "      <th>9</th>\n",
              "      <td>RL</td>\n",
              "      <td>RM</td>\n",
              "      <td>191004.994787</td>\n",
              "      <td>126316.830275</td>\n",
              "      <td>64688.164512</td>\n",
              "      <td>4057.981275</td>\n",
              "      <td>15.940972</td>\n",
              "      <td>479.588043</td>\n",
              "      <td>4.495293e-13</td>\n",
              "      <td>0.844471</td>\n",
              "    </tr>\n",
              "  </tbody>\n",
              "</table>\n",
              "</div>\n",
              "    <div class=\"colab-df-buttons\">\n",
              "\n",
              "  <div class=\"colab-df-container\">\n",
              "    <button class=\"colab-df-convert\" onclick=\"convertToInteractive('df-da97a3df-fcf2-490f-9e88-0caadf938848')\"\n",
              "            title=\"Convert this dataframe to an interactive table.\"\n",
              "            style=\"display:none;\">\n",
              "\n",
              "  <svg xmlns=\"http://www.w3.org/2000/svg\" height=\"24px\" viewBox=\"0 -960 960 960\">\n",
              "    <path d=\"M120-120v-720h720v720H120Zm60-500h600v-160H180v160Zm220 220h160v-160H400v160Zm0 220h160v-160H400v160ZM180-400h160v-160H180v160Zm440 0h160v-160H620v160ZM180-180h160v-160H180v160Zm440 0h160v-160H620v160Z\"/>\n",
              "  </svg>\n",
              "    </button>\n",
              "\n",
              "  <style>\n",
              "    .colab-df-container {\n",
              "      display:flex;\n",
              "      gap: 12px;\n",
              "    }\n",
              "\n",
              "    .colab-df-convert {\n",
              "      background-color: #E8F0FE;\n",
              "      border: none;\n",
              "      border-radius: 50%;\n",
              "      cursor: pointer;\n",
              "      display: none;\n",
              "      fill: #1967D2;\n",
              "      height: 32px;\n",
              "      padding: 0 0 0 0;\n",
              "      width: 32px;\n",
              "    }\n",
              "\n",
              "    .colab-df-convert:hover {\n",
              "      background-color: #E2EBFA;\n",
              "      box-shadow: 0px 1px 2px rgba(60, 64, 67, 0.3), 0px 1px 3px 1px rgba(60, 64, 67, 0.15);\n",
              "      fill: #174EA6;\n",
              "    }\n",
              "\n",
              "    .colab-df-buttons div {\n",
              "      margin-bottom: 4px;\n",
              "    }\n",
              "\n",
              "    [theme=dark] .colab-df-convert {\n",
              "      background-color: #3B4455;\n",
              "      fill: #D2E3FC;\n",
              "    }\n",
              "\n",
              "    [theme=dark] .colab-df-convert:hover {\n",
              "      background-color: #434B5C;\n",
              "      box-shadow: 0px 1px 3px 1px rgba(0, 0, 0, 0.15);\n",
              "      filter: drop-shadow(0px 1px 2px rgba(0, 0, 0, 0.3));\n",
              "      fill: #FFFFFF;\n",
              "    }\n",
              "  </style>\n",
              "\n",
              "    <script>\n",
              "      const buttonEl =\n",
              "        document.querySelector('#df-da97a3df-fcf2-490f-9e88-0caadf938848 button.colab-df-convert');\n",
              "      buttonEl.style.display =\n",
              "        google.colab.kernel.accessAllowed ? 'block' : 'none';\n",
              "\n",
              "      async function convertToInteractive(key) {\n",
              "        const element = document.querySelector('#df-da97a3df-fcf2-490f-9e88-0caadf938848');\n",
              "        const dataTable =\n",
              "          await google.colab.kernel.invokeFunction('convertToInteractive',\n",
              "                                                    [key], {});\n",
              "        if (!dataTable) return;\n",
              "\n",
              "        const docLinkHtml = 'Like what you see? Visit the ' +\n",
              "          '<a target=\"_blank\" href=https://colab.research.google.com/notebooks/data_table.ipynb>data table notebook</a>'\n",
              "          + ' to learn more about interactive tables.';\n",
              "        element.innerHTML = '';\n",
              "        dataTable['output_type'] = 'display_data';\n",
              "        await google.colab.output.renderOutput(dataTable, element);\n",
              "        const docLink = document.createElement('div');\n",
              "        docLink.innerHTML = docLinkHtml;\n",
              "        element.appendChild(docLink);\n",
              "      }\n",
              "    </script>\n",
              "  </div>\n",
              "\n",
              "\n",
              "<div id=\"df-6bf92ab6-af85-4e88-8a97-5df175ab24ee\">\n",
              "  <button class=\"colab-df-quickchart\" onclick=\"quickchart('df-6bf92ab6-af85-4e88-8a97-5df175ab24ee')\"\n",
              "            title=\"Suggest charts\"\n",
              "            style=\"display:none;\">\n",
              "\n",
              "<svg xmlns=\"http://www.w3.org/2000/svg\" height=\"24px\"viewBox=\"0 0 24 24\"\n",
              "     width=\"24px\">\n",
              "    <g>\n",
              "        <path d=\"M19 3H5c-1.1 0-2 .9-2 2v14c0 1.1.9 2 2 2h14c1.1 0 2-.9 2-2V5c0-1.1-.9-2-2-2zM9 17H7v-7h2v7zm4 0h-2V7h2v10zm4 0h-2v-4h2v4z\"/>\n",
              "    </g>\n",
              "</svg>\n",
              "  </button>\n",
              "\n",
              "<style>\n",
              "  .colab-df-quickchart {\n",
              "      --bg-color: #E8F0FE;\n",
              "      --fill-color: #1967D2;\n",
              "      --hover-bg-color: #E2EBFA;\n",
              "      --hover-fill-color: #174EA6;\n",
              "      --disabled-fill-color: #AAA;\n",
              "      --disabled-bg-color: #DDD;\n",
              "  }\n",
              "\n",
              "  [theme=dark] .colab-df-quickchart {\n",
              "      --bg-color: #3B4455;\n",
              "      --fill-color: #D2E3FC;\n",
              "      --hover-bg-color: #434B5C;\n",
              "      --hover-fill-color: #FFFFFF;\n",
              "      --disabled-bg-color: #3B4455;\n",
              "      --disabled-fill-color: #666;\n",
              "  }\n",
              "\n",
              "  .colab-df-quickchart {\n",
              "    background-color: var(--bg-color);\n",
              "    border: none;\n",
              "    border-radius: 50%;\n",
              "    cursor: pointer;\n",
              "    display: none;\n",
              "    fill: var(--fill-color);\n",
              "    height: 32px;\n",
              "    padding: 0;\n",
              "    width: 32px;\n",
              "  }\n",
              "\n",
              "  .colab-df-quickchart:hover {\n",
              "    background-color: var(--hover-bg-color);\n",
              "    box-shadow: 0 1px 2px rgba(60, 64, 67, 0.3), 0 1px 3px 1px rgba(60, 64, 67, 0.15);\n",
              "    fill: var(--button-hover-fill-color);\n",
              "  }\n",
              "\n",
              "  .colab-df-quickchart-complete:disabled,\n",
              "  .colab-df-quickchart-complete:disabled:hover {\n",
              "    background-color: var(--disabled-bg-color);\n",
              "    fill: var(--disabled-fill-color);\n",
              "    box-shadow: none;\n",
              "  }\n",
              "\n",
              "  .colab-df-spinner {\n",
              "    border: 2px solid var(--fill-color);\n",
              "    border-color: transparent;\n",
              "    border-bottom-color: var(--fill-color);\n",
              "    animation:\n",
              "      spin 1s steps(1) infinite;\n",
              "  }\n",
              "\n",
              "  @keyframes spin {\n",
              "    0% {\n",
              "      border-color: transparent;\n",
              "      border-bottom-color: var(--fill-color);\n",
              "      border-left-color: var(--fill-color);\n",
              "    }\n",
              "    20% {\n",
              "      border-color: transparent;\n",
              "      border-left-color: var(--fill-color);\n",
              "      border-top-color: var(--fill-color);\n",
              "    }\n",
              "    30% {\n",
              "      border-color: transparent;\n",
              "      border-left-color: var(--fill-color);\n",
              "      border-top-color: var(--fill-color);\n",
              "      border-right-color: var(--fill-color);\n",
              "    }\n",
              "    40% {\n",
              "      border-color: transparent;\n",
              "      border-right-color: var(--fill-color);\n",
              "      border-top-color: var(--fill-color);\n",
              "    }\n",
              "    60% {\n",
              "      border-color: transparent;\n",
              "      border-right-color: var(--fill-color);\n",
              "    }\n",
              "    80% {\n",
              "      border-color: transparent;\n",
              "      border-right-color: var(--fill-color);\n",
              "      border-bottom-color: var(--fill-color);\n",
              "    }\n",
              "    90% {\n",
              "      border-color: transparent;\n",
              "      border-bottom-color: var(--fill-color);\n",
              "    }\n",
              "  }\n",
              "</style>\n",
              "\n",
              "  <script>\n",
              "    async function quickchart(key) {\n",
              "      const quickchartButtonEl =\n",
              "        document.querySelector('#' + key + ' button');\n",
              "      quickchartButtonEl.disabled = true;  // To prevent multiple clicks.\n",
              "      quickchartButtonEl.classList.add('colab-df-spinner');\n",
              "      try {\n",
              "        const charts = await google.colab.kernel.invokeFunction(\n",
              "            'suggestCharts', [key], {});\n",
              "      } catch (error) {\n",
              "        console.error('Error during call to suggestCharts:', error);\n",
              "      }\n",
              "      quickchartButtonEl.classList.remove('colab-df-spinner');\n",
              "      quickchartButtonEl.classList.add('colab-df-quickchart-complete');\n",
              "    }\n",
              "    (() => {\n",
              "      let quickchartButtonEl =\n",
              "        document.querySelector('#df-6bf92ab6-af85-4e88-8a97-5df175ab24ee button');\n",
              "      quickchartButtonEl.style.display =\n",
              "        google.colab.kernel.accessAllowed ? 'block' : 'none';\n",
              "    })();\n",
              "  </script>\n",
              "</div>\n",
              "\n",
              "    </div>\n",
              "  </div>\n"
            ],
            "application/vnd.google.colaboratory.intrinsic+json": {
              "type": "dataframe",
              "summary": "{\n  \"name\": \"pg\",\n  \"rows\": 10,\n  \"fields\": [\n    {\n      \"column\": \"A\",\n      \"properties\": {\n        \"dtype\": \"category\",\n        \"num_unique_values\": 4,\n        \"samples\": [\n          \"FV\",\n          \"RL\",\n          \"C (all)\"\n        ],\n        \"semantic_type\": \"\",\n        \"description\": \"\"\n      }\n    },\n    {\n      \"column\": \"B\",\n      \"properties\": {\n        \"dtype\": \"category\",\n        \"num_unique_values\": 4,\n        \"samples\": [\n          \"RH\",\n          \"RM\",\n          \"FV\"\n        ],\n        \"semantic_type\": \"\",\n        \"description\": \"\"\n      }\n    },\n    {\n      \"column\": \"mean(A)\",\n      \"properties\": {\n        \"dtype\": \"number\",\n        \"std\": 63527.185879882796,\n        \"min\": 74528.0,\n        \"max\": 214014.06153846154,\n        \"num_unique_values\": 4,\n        \"samples\": [\n          214014.06153846154,\n          191004.99478714162,\n          74528.0\n        ],\n        \"semantic_type\": \"\",\n        \"description\": \"\"\n      }\n    },\n    {\n      \"column\": \"mean(B)\",\n      \"properties\": {\n        \"dtype\": \"number\",\n        \"std\": 36145.88449246934,\n        \"min\": 126316.83027522935,\n        \"max\": 214014.06153846154,\n        \"num_unique_values\": 4,\n        \"samples\": [\n          131558.375,\n          126316.83027522935,\n          214014.06153846154\n        ],\n        \"semantic_type\": \"\",\n        \"description\": \"\"\n      }\n    },\n    {\n      \"column\": \"diff\",\n      \"properties\": {\n        \"dtype\": \"number\",\n        \"std\": 81053.05104891057,\n        \"min\": -139486.06153846154,\n        \"max\": 87697.23126323218,\n        \"num_unique_values\": 10,\n        \"samples\": [\n          5241.544724770647,\n          -57030.375,\n          23009.066751319915\n        ],\n        \"semantic_type\": \"\",\n        \"description\": \"\"\n      }\n    },\n    {\n      \"column\": \"se\",\n      \"properties\": {\n        \"dtype\": \"number\",\n        \"std\": 2923.5236320516574,\n        \"min\": 4057.9812752748603,\n        \"max\": 13924.885315169566,\n        \"num_unique_values\": 10,\n        \"samples\": [\n          9514.117495973931,\n          13924.885315169566,\n          6918.163260109539\n        ],\n        \"semantic_type\": \"\",\n        \"description\": \"\"\n      }\n    },\n    {\n      \"column\": \"T\",\n      \"properties\": {\n        \"dtype\": \"number\",\n        \"std\": 9.327670240610717,\n        \"min\": -11.15434017216087,\n        \"max\": 15.94097166146503,\n        \"num_unique_values\": 10,\n        \"samples\": [\n          0.5509228498585077,\n          -4.0955723303424225,\n          3.325892420606969\n        ],\n        \"semantic_type\": \"\",\n        \"description\": \"\"\n      }\n    },\n    {\n      \"column\": \"df\",\n      \"properties\": {\n        \"dtype\": \"number\",\n        \"std\": 144.21563626597836,\n        \"min\": 9.915396449371972,\n        \"max\": 479.58804337512476,\n        \"num_unique_values\": 10,\n        \"samples\": [\n          19.31500874522715,\n          20.080937510798123,\n          82.264978351008\n        ],\n        \"semantic_type\": \"\",\n        \"description\": \"\"\n      }\n    },\n    {\n      \"column\": \"pval\",\n      \"properties\": {\n        \"dtype\": \"number\",\n        \"std\": 0.30934199971574416,\n        \"min\": 2.55351295663786e-15,\n        \"max\": 0.9805160079312961,\n        \"num_unique_values\": 10,\n        \"samples\": [\n          0.9805160079312961,\n          0.004517312282163566,\n          0.01123475094228299\n        ],\n        \"semantic_type\": \"\",\n        \"description\": \"\"\n      }\n    },\n    {\n      \"column\": \"hedges\",\n      \"properties\": {\n        \"dtype\": \"number\",\n        \"std\": 1.4744496949220318,\n        \"min\": -2.736319667586674,\n        \"max\": 1.7696293266636927,\n        \"num_unique_values\": 10,\n        \"samples\": [\n          0.10930659728892932,\n          -1.5777414349063328,\n          0.28916003524257056\n        ],\n        \"semantic_type\": \"\",\n        \"description\": \"\"\n      }\n    }\n  ]\n}"
            }
          },
          "metadata": {},
          "execution_count": 25
        }
      ]
    },
    {
      "cell_type": "markdown",
      "source": [
        "O único grupo que com 95% de confiança aceitamos que tem variâncias iguais é o RH com o RM"
      ],
      "metadata": {
        "id": "ZjWQstizElqA"
      }
    },
    {
      "cell_type": "code",
      "source": [],
      "metadata": {
        "id": "0K6gSjrHEPAi"
      },
      "execution_count": null,
      "outputs": []
    }
  ]
}